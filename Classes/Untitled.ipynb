{
 "cells": [
  {
   "cell_type": "markdown",
   "id": "accepting-monkey",
   "metadata": {},
   "source": [
    "# Introducción a Python"
   ]
  },
  {
   "cell_type": "markdown",
   "id": "greek-greensboro",
   "metadata": {},
   "source": [
    "primer código!"
   ]
  },
  {
   "cell_type": "code",
   "execution_count": 3,
   "id": "metric-dominant",
   "metadata": {},
   "outputs": [
    {
     "name": "stdout",
     "output_type": "stream",
     "text": [
      "hola mundo\n"
     ]
    }
   ],
   "source": [
    "print(\"hola mundo\")"
   ]
  },
  {
   "cell_type": "markdown",
   "id": "little-titanium",
   "metadata": {},
   "source": [
    "## Definición de variables"
   ]
  },
  {
   "cell_type": "markdown",
   "id": "hindu-healthcare",
   "metadata": {},
   "source": [
    "identificador = valor"
   ]
  },
  {
   "cell_type": "code",
   "execution_count": 4,
   "id": "middle-passport",
   "metadata": {},
   "outputs": [],
   "source": [
    "a = 1"
   ]
  },
  {
   "cell_type": "code",
   "execution_count": 11,
   "id": "latest-thompson",
   "metadata": {},
   "outputs": [
    {
     "name": "stdout",
     "output_type": "stream",
     "text": [
      "1\n"
     ]
    }
   ],
   "source": [
    "print(a)"
   ]
  },
  {
   "cell_type": "code",
   "execution_count": 12,
   "id": "juvenile-distributor",
   "metadata": {},
   "outputs": [],
   "source": [
    "b = \"Hola como estas\""
   ]
  },
  {
   "cell_type": "code",
   "execution_count": 13,
   "id": "short-biotechnology",
   "metadata": {},
   "outputs": [
    {
     "name": "stdout",
     "output_type": "stream",
     "text": [
      "Hola como estas\n"
     ]
    }
   ],
   "source": [
    "print(b)"
   ]
  },
  {
   "cell_type": "code",
   "execution_count": 14,
   "id": "political-dollar",
   "metadata": {},
   "outputs": [],
   "source": [
    "variable1 = 3.14 #pi"
   ]
  },
  {
   "cell_type": "code",
   "execution_count": 15,
   "id": "departmental-tomato",
   "metadata": {},
   "outputs": [
    {
     "name": "stdout",
     "output_type": "stream",
     "text": [
      "3.14\n"
     ]
    }
   ],
   "source": [
    "print(variable1)"
   ]
  },
  {
   "cell_type": "code",
   "execution_count": 16,
   "id": "answering-playing",
   "metadata": {},
   "outputs": [],
   "source": [
    "# area de un rectangulo"
   ]
  },
  {
   "cell_type": "code",
   "execution_count": 17,
   "id": "strategic-louis",
   "metadata": {},
   "outputs": [],
   "source": [
    "largo = 20"
   ]
  },
  {
   "cell_type": "code",
   "execution_count": 18,
   "id": "understanding-hierarchy",
   "metadata": {},
   "outputs": [],
   "source": [
    "ancho = 3"
   ]
  },
  {
   "cell_type": "code",
   "execution_count": 19,
   "id": "figured-journey",
   "metadata": {},
   "outputs": [],
   "source": [
    "area = largo * ancho"
   ]
  },
  {
   "cell_type": "code",
   "execution_count": 20,
   "id": "valuable-thomas",
   "metadata": {},
   "outputs": [
    {
     "name": "stdout",
     "output_type": "stream",
     "text": [
      "60\n"
     ]
    }
   ],
   "source": [
    "print(area)"
   ]
  },
  {
   "cell_type": "markdown",
   "id": "auburn-premiere",
   "metadata": {},
   "source": [
    "## Keywords"
   ]
  },
  {
   "cell_type": "code",
   "execution_count": 21,
   "id": "adopted-preference",
   "metadata": {},
   "outputs": [
    {
     "data": {
      "text/plain": [
       "True"
      ]
     },
     "execution_count": 21,
     "metadata": {},
     "output_type": "execute_result"
    }
   ],
   "source": [
    "True"
   ]
  },
  {
   "cell_type": "code",
   "execution_count": 23,
   "id": "alternative-shark",
   "metadata": {},
   "outputs": [
    {
     "ename": "SyntaxError",
     "evalue": "can't assign to keyword (<ipython-input-23-ede0b14882f9>, line 2)",
     "output_type": "error",
     "traceback": [
      "\u001b[0;36m  File \u001b[0;32m\"<ipython-input-23-ede0b14882f9>\"\u001b[0;36m, line \u001b[0;32m2\u001b[0m\n\u001b[0;31m    True = 2\u001b[0m\n\u001b[0m            ^\u001b[0m\n\u001b[0;31mSyntaxError\u001b[0m\u001b[0;31m:\u001b[0m can't assign to keyword\n"
     ]
    }
   ],
   "source": [
    "# no esta correcto\n",
    "True = 2"
   ]
  },
  {
   "cell_type": "code",
   "execution_count": 25,
   "id": "dutch-preparation",
   "metadata": {},
   "outputs": [],
   "source": [
    "# correcto\n",
    "true = 2"
   ]
  },
  {
   "cell_type": "markdown",
   "id": "particular-hanging",
   "metadata": {},
   "source": [
    "## Tipos de data"
   ]
  },
  {
   "cell_type": "code",
   "execution_count": 30,
   "id": "australian-brazil",
   "metadata": {},
   "outputs": [
    {
     "data": {
      "text/plain": [
       "int"
      ]
     },
     "execution_count": 30,
     "metadata": {},
     "output_type": "execute_result"
    }
   ],
   "source": [
    "# conocer tipo de data\n",
    "type(a)"
   ]
  },
  {
   "cell_type": "code",
   "execution_count": 32,
   "id": "reflected-words",
   "metadata": {},
   "outputs": [
    {
     "name": "stdout",
     "output_type": "stream",
     "text": [
      "Hola como estas\n",
      "<class 'str'>\n"
     ]
    }
   ],
   "source": [
    "print(b)\n",
    "print(type(b))"
   ]
  },
  {
   "cell_type": "code",
   "execution_count": 34,
   "id": "canadian-remains",
   "metadata": {},
   "outputs": [
    {
     "name": "stdout",
     "output_type": "stream",
     "text": [
      "<class 'float'>\n"
     ]
    }
   ],
   "source": [
    "d = 1.0\n",
    "print(type(d))"
   ]
  },
  {
   "cell_type": "code",
   "execution_count": 35,
   "id": "clinical-execution",
   "metadata": {},
   "outputs": [
    {
     "data": {
      "text/plain": [
       "bool"
      ]
     },
     "execution_count": 35,
     "metadata": {},
     "output_type": "execute_result"
    }
   ],
   "source": [
    "# tipo boolean\n",
    "type(True)"
   ]
  },
  {
   "cell_type": "markdown",
   "id": "distributed-genome",
   "metadata": {},
   "source": [
    "# Operadores\n",
    "Sibolos especiale que ejecutan ciertos calculos aritméticos o lógicos"
   ]
  },
  {
   "cell_type": "markdown",
   "id": "prerequisite-special",
   "metadata": {},
   "source": [
    "### Operadores matemáticos"
   ]
  },
  {
   "cell_type": "code",
   "execution_count": 36,
   "id": "abroad-helen",
   "metadata": {},
   "outputs": [
    {
     "data": {
      "text/plain": [
       "5"
      ]
     },
     "execution_count": 36,
     "metadata": {},
     "output_type": "execute_result"
    }
   ],
   "source": [
    "# operador suma\n",
    "2+3"
   ]
  },
  {
   "cell_type": "code",
   "execution_count": 37,
   "id": "suspended-examination",
   "metadata": {},
   "outputs": [
    {
     "data": {
      "text/plain": [
       "11"
      ]
     },
     "execution_count": 37,
     "metadata": {},
     "output_type": "execute_result"
    }
   ],
   "source": [
    "2*3 + 5"
   ]
  },
  {
   "cell_type": "code",
   "execution_count": 38,
   "id": "biblical-hayes",
   "metadata": {},
   "outputs": [
    {
     "data": {
      "text/plain": [
       "0"
      ]
     },
     "execution_count": 38,
     "metadata": {},
     "output_type": "execute_result"
    }
   ],
   "source": [
    "# modulo\n",
    "10%2"
   ]
  },
  {
   "cell_type": "code",
   "execution_count": 39,
   "id": "found-jamaica",
   "metadata": {},
   "outputs": [
    {
     "data": {
      "text/plain": [
       "100"
      ]
     },
     "execution_count": 39,
     "metadata": {},
     "output_type": "execute_result"
    }
   ],
   "source": [
    "10**2"
   ]
  },
  {
   "cell_type": "markdown",
   "id": "biblical-bible",
   "metadata": {},
   "source": [
    "### Operadores de comparación"
   ]
  },
  {
   "cell_type": "code",
   "execution_count": 41,
   "id": "quality-melbourne",
   "metadata": {},
   "outputs": [
    {
     "data": {
      "text/plain": [
       "True"
      ]
     },
     "execution_count": 41,
     "metadata": {},
     "output_type": "execute_result"
    }
   ],
   "source": [
    "2 > 0"
   ]
  },
  {
   "cell_type": "code",
   "execution_count": 43,
   "id": "focal-thailand",
   "metadata": {},
   "outputs": [
    {
     "data": {
      "text/plain": [
       "False"
      ]
     },
     "execution_count": 43,
     "metadata": {},
     "output_type": "execute_result"
    }
   ],
   "source": [
    "2 == 3"
   ]
  },
  {
   "cell_type": "code",
   "execution_count": 44,
   "id": "organic-negative",
   "metadata": {},
   "outputs": [
    {
     "data": {
      "text/plain": [
       "True"
      ]
     },
     "execution_count": 44,
     "metadata": {},
     "output_type": "execute_result"
    }
   ],
   "source": [
    "2 != 3"
   ]
  },
  {
   "cell_type": "code",
   "execution_count": 45,
   "id": "lonely-nicholas",
   "metadata": {},
   "outputs": [
    {
     "data": {
      "text/plain": [
       "True"
      ]
     },
     "execution_count": 45,
     "metadata": {},
     "output_type": "execute_result"
    }
   ],
   "source": [
    "2 >= 2"
   ]
  },
  {
   "cell_type": "markdown",
   "id": "prescription-physiology",
   "metadata": {},
   "source": [
    "### Operadores logicos"
   ]
  },
  {
   "cell_type": "code",
   "execution_count": 47,
   "id": "polyphonic-burden",
   "metadata": {},
   "outputs": [],
   "source": [
    "a = True\n",
    "b = False"
   ]
  },
  {
   "cell_type": "code",
   "execution_count": 48,
   "id": "velvet-vanilla",
   "metadata": {},
   "outputs": [
    {
     "data": {
      "text/plain": [
       "False"
      ]
     },
     "execution_count": 48,
     "metadata": {},
     "output_type": "execute_result"
    }
   ],
   "source": [
    "a and b"
   ]
  },
  {
   "cell_type": "code",
   "execution_count": 49,
   "id": "placed-denver",
   "metadata": {},
   "outputs": [
    {
     "data": {
      "text/plain": [
       "True"
      ]
     },
     "execution_count": 49,
     "metadata": {},
     "output_type": "execute_result"
    }
   ],
   "source": [
    "a or b"
   ]
  },
  {
   "cell_type": "markdown",
   "id": "potential-france",
   "metadata": {},
   "source": [
    "# Control de flujo"
   ]
  },
  {
   "cell_type": "code",
   "execution_count": 52,
   "id": "simplified-custom",
   "metadata": {},
   "outputs": [
    {
     "name": "stdout",
     "output_type": "stream",
     "text": [
      "Es verdadero\n"
     ]
    }
   ],
   "source": [
    "a = True\n",
    "\n",
    "if a:\n",
    "    print(\"Es verdadero\")"
   ]
  },
  {
   "cell_type": "code",
   "execution_count": 53,
   "id": "atmospheric-singer",
   "metadata": {},
   "outputs": [
    {
     "name": "stdout",
     "output_type": "stream",
     "text": [
      "Es falso\n"
     ]
    }
   ],
   "source": [
    "a = False\n",
    "\n",
    "if a:\n",
    "    print(\"Es verdadero\")\n",
    "    \n",
    "else: \n",
    "    \n",
    "    print(\"Es falso\")"
   ]
  },
  {
   "cell_type": "code",
   "execution_count": 56,
   "id": "sixth-coating",
   "metadata": {},
   "outputs": [
    {
     "name": "stdout",
     "output_type": "stream",
     "text": [
      "menor que 0\n"
     ]
    }
   ],
   "source": [
    "a = -10\n",
    "\n",
    "if a > 0:\n",
    "    \n",
    "    print(\"mayor que 0\")\n",
    "    \n",
    "elif a == 0:\n",
    "    \n",
    "    print(\"igual a 0\")\n",
    "    \n",
    "else:\n",
    "    \n",
    "    print(\"menor que 0\")"
   ]
  },
  {
   "cell_type": "markdown",
   "id": "historic-genome",
   "metadata": {},
   "source": [
    "# Ciclos"
   ]
  },
  {
   "cell_type": "markdown",
   "id": "confirmed-collaboration",
   "metadata": {},
   "source": [
    "## Ciclo For\n",
    "\n",
    "for variable in secuencia:\n",
    "\n",
    "    hacer algo con \"variable\""
   ]
  },
  {
   "cell_type": "code",
   "execution_count": 59,
   "id": "processed-ethernet",
   "metadata": {},
   "outputs": [
    {
     "name": "stdout",
     "output_type": "stream",
     "text": [
      "0\n",
      "1\n",
      "2\n",
      "3\n"
     ]
    }
   ],
   "source": [
    "# lista\n",
    "numbers = [0,1,2,3]\n",
    "\n",
    "for var in numbers:\n",
    "    \n",
    "    print(var)"
   ]
  },
  {
   "cell_type": "code",
   "execution_count": 60,
   "id": "tough-fraud",
   "metadata": {},
   "outputs": [],
   "source": [
    "# ejercicio: imprime la suma de \"numbers\" (6)"
   ]
  },
  {
   "cell_type": "code",
   "execution_count": 66,
   "id": "suspended-artwork",
   "metadata": {},
   "outputs": [
    {
     "name": "stdout",
     "output_type": "stream",
     "text": [
      "6\n"
     ]
    }
   ],
   "source": [
    "numbers = [0,1,2,3]\n",
    "\n",
    "sum_ = 0\n",
    "\n",
    "for var in numbers:\n",
    "    \n",
    "    sum_ = sum_ + var\n",
    "    \n",
    "#     print(sum_)\n",
    "    \n",
    "print(sum_)"
   ]
  },
  {
   "cell_type": "markdown",
   "id": "final-strand",
   "metadata": {},
   "source": [
    "## Ciclo while\n",
    "\n",
    "while (expresion_a_testear):\n",
    "\n",
    "    hacer algo"
   ]
  },
  {
   "cell_type": "code",
   "execution_count": 69,
   "id": "still-warren",
   "metadata": {},
   "outputs": [
    {
     "name": "stdout",
     "output_type": "stream",
     "text": [
      "The sum is 55\n"
     ]
    }
   ],
   "source": [
    "# Program to add natural\n",
    "# numbers up to \n",
    "# sum = 1+2+3+...+n\n",
    "\n",
    "n = 10\n",
    "\n",
    "# initialize sum and counter\n",
    "sum_ = 0\n",
    "i = 1\n",
    "\n",
    "while i <= n:\n",
    "    sum_ = sum_ + i\n",
    "    i = i+1    # update counter\n",
    "\n",
    "# print the sum\n",
    "print(\"The sum is\", sum_)"
   ]
  },
  {
   "cell_type": "markdown",
   "id": "biblical-salon",
   "metadata": {},
   "source": [
    "## Break\n",
    "Termina un loop"
   ]
  },
  {
   "cell_type": "code",
   "execution_count": 70,
   "id": "julian-bahamas",
   "metadata": {},
   "outputs": [
    {
     "name": "stdout",
     "output_type": "stream",
     "text": [
      "s\n",
      "t\n",
      "r\n",
      "The end\n"
     ]
    }
   ],
   "source": [
    "# Use of break statement inside the loop\n",
    "\n",
    "for val in \"string\":\n",
    "    if val == \"i\":\n",
    "        break\n",
    "    print(val)\n",
    "\n",
    "print(\"The end\")"
   ]
  },
  {
   "cell_type": "markdown",
   "id": "consolidated-charge",
   "metadata": {},
   "source": [
    "## Continue"
   ]
  },
  {
   "cell_type": "code",
   "execution_count": 72,
   "id": "intense-error",
   "metadata": {},
   "outputs": [
    {
     "name": "stdout",
     "output_type": "stream",
     "text": [
      "s\n",
      "t\n",
      "r\n",
      "n\n",
      "g\n",
      "The end\n"
     ]
    }
   ],
   "source": [
    "# Program to show the use of continue statement inside loops\n",
    "\n",
    "for val in \"string\":\n",
    "    if val == \"i\":\n",
    "        continue\n",
    "    print(val)\n",
    "\n",
    "print(\"The end\")"
   ]
  },
  {
   "cell_type": "markdown",
   "id": "narrative-lawsuit",
   "metadata": {},
   "source": [
    "# Funciones"
   ]
  },
  {
   "cell_type": "code",
   "execution_count": 73,
   "id": "banner-serum",
   "metadata": {},
   "outputs": [],
   "source": [
    "def function_name(parameters):\n",
    "    \"\"\" documentation \"\"\"\n",
    "    # do some computing\n",
    "    # return a value\n",
    "    return value"
   ]
  },
  {
   "cell_type": "code",
   "execution_count": 77,
   "id": "joined-suicide",
   "metadata": {},
   "outputs": [],
   "source": [
    "def greet(name):\n",
    "    \"\"\"\n",
    "    This function greets to\n",
    "    the person passed in as\n",
    "    a parameter\n",
    "    \"\"\"\n",
    "    print(\"Hello, \" + name + \". Good morning!\")"
   ]
  },
  {
   "cell_type": "code",
   "execution_count": 75,
   "id": "noted-listening",
   "metadata": {},
   "outputs": [
    {
     "name": "stdout",
     "output_type": "stream",
     "text": [
      "Hello, Leo. Good morning!\n"
     ]
    }
   ],
   "source": [
    "greet(\"Leo\")"
   ]
  },
  {
   "cell_type": "code",
   "execution_count": 76,
   "id": "starting-cleaning",
   "metadata": {},
   "outputs": [],
   "source": [
    "greet?"
   ]
  },
  {
   "cell_type": "code",
   "execution_count": 80,
   "id": "electric-marriage",
   "metadata": {},
   "outputs": [],
   "source": [
    "# function wiht return\n",
    "def absolute_value(num):\n",
    "    \"\"\"This function returns the absolute\n",
    "    value of the entered number\"\"\"\n",
    "\n",
    "    if num >= 0:\n",
    "        return num\n",
    "    else:\n",
    "        return -num"
   ]
  },
  {
   "cell_type": "code",
   "execution_count": 81,
   "id": "express-suite",
   "metadata": {},
   "outputs": [
    {
     "name": "stdout",
     "output_type": "stream",
     "text": [
      "2\n",
      "4\n"
     ]
    }
   ],
   "source": [
    "print(absolute_value(2))\n",
    "\n",
    "print(absolute_value(-4))"
   ]
  },
  {
   "cell_type": "code",
   "execution_count": 84,
   "id": "limited-findings",
   "metadata": {},
   "outputs": [],
   "source": [
    "# Scope function\n",
    "\n",
    "def my_func():\n",
    "    x = 10\n",
    "    print(\"Value inside function:\",x)"
   ]
  },
  {
   "cell_type": "code",
   "execution_count": 85,
   "id": "aggregate-intranet",
   "metadata": {},
   "outputs": [
    {
     "name": "stdout",
     "output_type": "stream",
     "text": [
      "Value inside function: 10\n",
      "Value outside function: 20\n"
     ]
    }
   ],
   "source": [
    "x = 20\n",
    "my_func()\n",
    "print(\"Value outside function:\",x)"
   ]
  },
  {
   "cell_type": "markdown",
   "id": "expanded-occasion",
   "metadata": {},
   "source": [
    "# Estructuras de datos"
   ]
  },
  {
   "cell_type": "markdown",
   "id": "dying-nevada",
   "metadata": {},
   "source": [
    "## listas"
   ]
  },
  {
   "cell_type": "code",
   "execution_count": 86,
   "id": "secondary-sleep",
   "metadata": {},
   "outputs": [],
   "source": [
    "# empty list\n",
    "my_list = []\n",
    "\n",
    "# list of integers\n",
    "my_list = [1, 2, 3]\n",
    "\n",
    "# list with mixed data types\n",
    "my_list = [1, \"Hello\", 3.4]"
   ]
  },
  {
   "cell_type": "code",
   "execution_count": 93,
   "id": "stock-valve",
   "metadata": {},
   "outputs": [
    {
     "name": "stdout",
     "output_type": "stream",
     "text": [
      "1\n"
     ]
    }
   ],
   "source": [
    "#index lists\n",
    "print(my_list[0])"
   ]
  },
  {
   "cell_type": "code",
   "execution_count": 94,
   "id": "sustained-queens",
   "metadata": {},
   "outputs": [
    {
     "name": "stdout",
     "output_type": "stream",
     "text": [
      "Hello\n"
     ]
    }
   ],
   "source": [
    "#index lists\n",
    "print(my_list[1])"
   ]
  },
  {
   "cell_type": "code",
   "execution_count": 95,
   "id": "considerable-aluminum",
   "metadata": {},
   "outputs": [
    {
     "name": "stdout",
     "output_type": "stream",
     "text": [
      "3.4\n"
     ]
    }
   ],
   "source": [
    "#index lists\n",
    "print(my_list[2])"
   ]
  },
  {
   "cell_type": "code",
   "execution_count": 96,
   "id": "unsigned-taylor",
   "metadata": {},
   "outputs": [
    {
     "name": "stdout",
     "output_type": "stream",
     "text": [
      "[1, 'Hello']\n"
     ]
    }
   ],
   "source": [
    "#index lists\n",
    "print(my_list[0:2])"
   ]
  },
  {
   "cell_type": "code",
   "execution_count": 97,
   "id": "interior-stopping",
   "metadata": {},
   "outputs": [
    {
     "name": "stdout",
     "output_type": "stream",
     "text": [
      "[1, 4, 6, 8]\n",
      "[1, 3, 5, 7]\n"
     ]
    }
   ],
   "source": [
    "# change elements\n",
    "\n",
    "# Correcting mistake values in a list\n",
    "odd = [2, 4, 6, 8]\n",
    "\n",
    "# change the 1st item    \n",
    "odd[0] = 1            \n",
    "\n",
    "print(odd)\n",
    "\n",
    "# change 2nd to 4th items\n",
    "odd[1:4] = [3, 5, 7]  \n",
    "\n",
    "print(odd)                   "
   ]
  },
  {
   "cell_type": "code",
   "execution_count": 99,
   "id": "established-eugene",
   "metadata": {},
   "outputs": [
    {
     "name": "stdout",
     "output_type": "stream",
     "text": [
      "[1, 3, 5, 7]\n",
      "[1, 3, 5, 7, 9, 11, 13]\n"
     ]
    }
   ],
   "source": [
    "# Appending and Extending lists in Python\n",
    "odd = [1, 3, 5]\n",
    "\n",
    "odd.append(7)\n",
    "\n",
    "print(odd)\n",
    "\n",
    "odd.extend([9, 11, 13])\n",
    "\n",
    "print(odd)\n"
   ]
  },
  {
   "cell_type": "markdown",
   "id": "swiss-bracket",
   "metadata": {},
   "source": [
    "## Tuplas"
   ]
  },
  {
   "cell_type": "code",
   "execution_count": 101,
   "id": "disturbed-insurance",
   "metadata": {},
   "outputs": [
    {
     "name": "stdout",
     "output_type": "stream",
     "text": [
      "()\n",
      "(1, 2, 3)\n",
      "(1, 'Hello', 3.4)\n",
      "('mouse', [8, 4, 6], (1, 2, 3))\n"
     ]
    }
   ],
   "source": [
    "# Different types of tuples\n",
    "\n",
    "# Empty tuple\n",
    "my_tuple = ()\n",
    "print(my_tuple)\n",
    "\n",
    "# Tuple having integers\n",
    "my_tuple = (1, 2, 3)\n",
    "print(my_tuple)\n",
    "\n",
    "# tuple with mixed datatypes\n",
    "my_tuple = (1, \"Hello\", 3.4)\n",
    "print(my_tuple)\n",
    "\n",
    "# nested tuple\n",
    "my_tuple = (\"mouse\", [8, 4, 6], (1, 2, 3))\n",
    "print(my_tuple)"
   ]
  },
  {
   "cell_type": "markdown",
   "id": "pleasant-partition",
   "metadata": {},
   "source": [
    "## Dicionarios\n",
    "\n",
    "llave: valor\n",
    "\n",
    "\n",
    "animales: [\"caballlo\",\"perro\"]\n",
    "\n",
    "aves: [\"aguila\", \"condor\"]"
   ]
  },
  {
   "cell_type": "code",
   "execution_count": 107,
   "id": "adaptive-spider",
   "metadata": {},
   "outputs": [],
   "source": [
    "# empty dictionary\n",
    "my_dict = {}\n",
    "\n",
    "# dictionary with integer keys\n",
    "my_dict = {1: 'apple', 2: 'ball'}\n",
    "\n",
    "# dictionary with mixed keys\n",
    "my_dict = {'name': 'John', 1: [2, 4, 3]}\n",
    "\n",
    "# using dict()\n",
    "my_dict = dict({1:'apple', 2:'ball'})\n",
    "\n",
    "# from sequence having each item as a pair\n",
    "my_dict = dict([(1,'apple'), (2,'ball')])"
   ]
  },
  {
   "cell_type": "code",
   "execution_count": 108,
   "id": "smooth-saint",
   "metadata": {},
   "outputs": [
    {
     "name": "stdout",
     "output_type": "stream",
     "text": [
      "Jack\n"
     ]
    }
   ],
   "source": [
    "# get vs [] for retrieving elements\n",
    "my_dict = {'name': 'Jack', 'age': 26}\n",
    "\n",
    "# Output: Jack\n",
    "print(my_dict['name'])"
   ]
  },
  {
   "cell_type": "code",
   "execution_count": 109,
   "id": "outdoor-harbor",
   "metadata": {},
   "outputs": [],
   "source": [
    "# update value\n",
    "my_dict['age'] = 27"
   ]
  },
  {
   "cell_type": "code",
   "execution_count": 110,
   "id": "starting-comedy",
   "metadata": {},
   "outputs": [
    {
     "name": "stdout",
     "output_type": "stream",
     "text": [
      "{'name': 'Jack', 'age': 27}\n"
     ]
    }
   ],
   "source": [
    "#Output: {'age': 27, 'name': 'Jack'}\n",
    "print(my_dict)"
   ]
  }
 ],
 "metadata": {
  "kernelspec": {
   "display_name": "Python 3",
   "language": "python",
   "name": "python3"
  },
  "language_info": {
   "codemirror_mode": {
    "name": "ipython",
    "version": 3
   },
   "file_extension": ".py",
   "mimetype": "text/x-python",
   "name": "python",
   "nbconvert_exporter": "python",
   "pygments_lexer": "ipython3",
   "version": "3.7.6"
  }
 },
 "nbformat": 4,
 "nbformat_minor": 5
}
