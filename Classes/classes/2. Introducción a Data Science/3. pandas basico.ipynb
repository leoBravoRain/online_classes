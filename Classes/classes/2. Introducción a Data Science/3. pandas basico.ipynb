{
 "cells": [
  {
   "cell_type": "markdown",
   "metadata": {},
   "source": [
    "# Procesamiento de datos con [*pandas*](https://pandas.pydata.org/) \n",
    "\n",
    "Pandas es una librería de Python para **leer, manipular y analizar datos** que se combina muy bien con NumPy y Matplotlib\n",
    "\n",
    "Pandas nos provee de:    \n",
    "\n",
    "- Dos nuevas estructuras de datos: `DataFrame` y `Series`\n",
    "- Herramientas de análisis de datos que operan sobre estas estructuras de datos\n",
    "\n",
    "En esta lección nos enfocaremos en la creación y manipulación de objetos tipo `DataFrame`\n",
    "\n",
    "Para instalar pandas activa tu ambiente de conda y luego\n",
    "\n",
    "    conda install pandas\n",
    "    "
   ]
  },
  {
   "cell_type": "code",
   "execution_count": 3,
   "metadata": {
    "ExecuteTime": {
     "end_time": "2020-06-11T21:07:52.830197Z",
     "start_time": "2020-06-11T21:07:50.436344Z"
    }
   },
   "outputs": [
    {
     "data": {
      "text/plain": [
       "'Versión de pandas 1.2.1'"
      ]
     },
     "metadata": {},
     "output_type": "display_data"
    }
   ],
   "source": [
    "%matplotlib inline\n",
    "import matplotlib.pyplot as plt\n",
    "import numpy as np\n",
    "import pandas as pd\n",
    "from IPython.display import YouTubeVideo, Markdown, SVG\n",
    "from functools import partial\n",
    "YouTubeVideo_formato = partial(YouTubeVideo, modestbranding=1, disablekb=0,\n",
    "                               width=640, height=360, autoplay=0, rel=0, showinfo=0)\n",
    "\n",
    "display(\"Versión de pandas \"+pd.__version__)"
   ]
  },
  {
   "cell_type": "markdown",
   "metadata": {},
   "source": [
    "## Objeto `pandas.DataFrame`\n",
    "\n",
    "El objeto [`pandas.DataFrame`](https://pandas.pydata.org/pandas-docs/stable/reference/api/pandas.DataFrame.html) es la estructura de datos principal de pandas\n",
    "\n",
    "- Es un arreglo de dos dimensiones (matriz) que **representa una tabla**\n",
    "- Las filas y columnas de la tabla se identifican con un índice etiquetado denominado *label*\n",
    "- Cada columna puede tener tipo distinto \n",
    "\n",
    "**Ejemplo:** Considere el siguiente `DataFrame` que representa datos de la bolsa de Santiago:\n",
    "\n",
    "| |  Monto \\[M$\\] | Variación \\[\\%\\] |\n",
    "|---|---|---|\n",
    "| AGUAS-A \t| 1653 |  0.36 |\n",
    "| BSANTANDER |\t 3531 | -0.31 |\n",
    "| CMPC \t|  5998 | -0.6 |\n",
    "| ENTEL |  1408 | 0.0 |\n",
    "\n",
    "En este ejemplo\n",
    "\n",
    "- La etiqueta de las filas son los nombres de las empresas\n",
    "- La etiqueta de las columnas son los nombres de los atributos medidas por la bolsa\n",
    "- El atributo *Monto* es un entero\n",
    "- El atributo *Variación* es un flotante\n",
    "\n",
    "A continuación veremos como crear un manipular objetos `DataFrame`\n",
    "\n",
    "\n",
    "**Construcción de un `DataFrame`** \n",
    "\n",
    "Se usa el constructor\n",
    "\n",
    "```python\n",
    "pandas.DataFrame(data=None, \n",
    "                 index: Optional[Collection] = None, \n",
    "                 columns: Optional[Collection] = None, \n",
    "                 dtype: Union[str, numpy.dtype, ExtensionDtype, None] = None, \n",
    "                 copy: bool = False)\n",
    "```\n",
    "\n",
    "El argumento más importante es `data`, que puede ser un iterable (lista), un diccionario, un ndarray, entre otros\n",
    "\n",
    "Consideremos lo siguiente\n",
    "\n",
    "- Si usamos un diccionario los `keys` se interpretan como etiquetas de columnas\n",
    "- Si usamos un diccionario de diccionarios los `keys` más internos se interpretan como etiquetas de filas\n",
    "- Si usamos un `ndarray` y no especificamos `index` y/o `columns` se crean etiquetas por defecto"
   ]
  },
  {
   "cell_type": "markdown",
   "metadata": {},
   "source": [
    "### Ejercicio práctico\n",
    "\n",
    "Construya un dataframe en base a esta información"
   ]
  },
  {
   "cell_type": "code",
   "execution_count": 4,
   "metadata": {
    "ExecuteTime": {
     "end_time": "2020-06-06T19:55:36.656040Z",
     "start_time": "2020-06-06T19:55:36.646578Z"
    }
   },
   "outputs": [
    {
     "data": {
      "text/plain": [
       "['Pablo', 'Marianna', 'Matthieu', 'Luis', 'Eliana', 'Cristobal']"
      ]
     },
     "metadata": {},
     "output_type": "display_data"
    },
    {
     "data": {
      "text/plain": [
       "{'lechugas [unidades]': [1, 0, 1, 2, 0, 0],\n",
       " 'papas [kilos]': [0.5, 2, 1.5, 1.2, 0, 5]}"
      ]
     },
     "metadata": {},
     "output_type": "display_data"
    }
   ],
   "source": [
    "clientes = ['Pablo', 'Marianna', 'Matthieu', 'Luis', 'Eliana', 'Cristobal']\n",
    "\n",
    "ventas = {\n",
    "    'lechugas [unidades]': [1, 0, 1, 2, 0, 0],\n",
    "    'papas [kilos]': [0.5, 2, 1.5, 1.2, 0, 5]\n",
    "}\n",
    "\n",
    "display(clientes, ventas)"
   ]
  },
  {
   "cell_type": "markdown",
   "metadata": {},
   "source": [
    "Construya un dataframe a partir del `ndarray` aleatorio `data`"
   ]
  },
  {
   "cell_type": "code",
   "execution_count": 5,
   "metadata": {
    "ExecuteTime": {
     "end_time": "2020-06-06T19:55:36.886878Z",
     "start_time": "2020-06-06T19:55:36.796424Z"
    }
   },
   "outputs": [
    {
     "data": {
      "text/plain": [
       "array([[-0.45599447, -0.14036022, -1.96372627, -0.18214942, -2.1814317 ],\n",
       "       [-0.16883729, -0.13162936,  0.38030839,  0.68865761,  0.55262555],\n",
       "       [ 0.7614915 , -1.30887743,  0.31915264, -0.39074673,  0.29496694],\n",
       "       [ 0.82282815, -1.30846505, -0.00439198,  0.76055221, -0.277607  ],\n",
       "       [ 0.42474558, -0.80644523,  1.08309693,  0.72679335,  0.58275573]])"
      ]
     },
     "metadata": {},
     "output_type": "display_data"
    }
   ],
   "source": [
    "data = np.random.randn(5, 5)\n",
    "display(data)"
   ]
  },
  {
   "cell_type": "markdown",
   "metadata": {},
   "source": [
    "**Comentarios y soluciones:**"
   ]
  },
  {
   "cell_type": "code",
   "execution_count": null,
   "metadata": {
    "ExecuteTime": {
     "end_time": "2020-06-06T19:55:37.186143Z",
     "start_time": "2020-06-06T19:55:36.970361Z"
    }
   },
   "outputs": [],
   "source": [
    "YouTubeVideo_formato('5P0wL3dpavI')"
   ]
  },
  {
   "cell_type": "markdown",
   "metadata": {},
   "source": [
    "## Atributos básicos de un `DataFrame`\n",
    "\n",
    "Una vez que haz creado un DataFrame es conveniente revisarlo\n",
    "\n",
    "Si tu DataFrame se llama `df`, puedes usar\n",
    "\n",
    "- `df.head(5)` y `df.tail(5)` para imprimir las 5 primeras  y 5 últimas filas, respectivamente\n",
    "- `df.columns` para recuperar un objeto `pandas.Index` con las etiquetas de columna\n",
    "- `df.index` para recuperar un objeto `pandas.Index` con las etiquetas de fila\n",
    "- `df.shape` para recuperar una tupla con el número de filas y número de columnas\n",
    "- `df.dtypes` para recuperar una lista con los tipos asignados a cada columna\n",
    "- `df.info()` nos da un resumen de lo anterior\n"
   ]
  },
  {
   "cell_type": "markdown",
   "metadata": {},
   "source": [
    "### Ejercicio práctico\n",
    "\n",
    "Considere el dataframe anterior y experimente con estos atributos"
   ]
  },
  {
   "cell_type": "code",
   "execution_count": null,
   "metadata": {
    "ExecuteTime": {
     "end_time": "2020-06-06T19:55:37.197419Z",
     "start_time": "2020-06-06T19:55:37.187976Z"
    }
   },
   "outputs": [],
   "source": [
    "clientes = ['Pablo', 'Marianna', 'Matthieu', 'Luis', 'Eliana', 'Cristobal']\n",
    "\n",
    "ventas = {\n",
    "    'lechugas [unidades]': [1, 0, 1, 2, 0, 0],\n",
    "    'papas [kilos]': [0.5, 2, 1.5, 1.2, 0, 5]\n",
    "}\n",
    "\n",
    "df = pd.DataFrame(data=ventas, index=clientes)\n",
    "display(df)"
   ]
  },
  {
   "cell_type": "markdown",
   "metadata": {},
   "source": [
    "**Comentarios y solución:**"
   ]
  },
  {
   "cell_type": "code",
   "execution_count": null,
   "metadata": {
    "ExecuteTime": {
     "end_time": "2020-06-06T19:55:37.514913Z",
     "start_time": "2020-06-06T19:55:37.294310Z"
    }
   },
   "outputs": [],
   "source": [
    "YouTubeVideo_formato('BLJzYfY41VA')"
   ]
  },
  {
   "cell_type": "markdown",
   "metadata": {},
   "source": [
    "## Indexado y *slicing*  de un `DataFrame`\n",
    "\n",
    "**Indexado en base a etiquetas**\n",
    "\n",
    "Podemos usar las etiquetas para indexar un DataFrame ya sea en sus filas o en sus columnas\n",
    "\n",
    "También podemos hacer *slicing*, es decir recuperar un subconjunto de un DataFrame\n",
    "\n",
    "> Se usa la función `loc[]` para **indexar y hacer slicing en base a la etiqueta**\n",
    "\n",
    "Notar que se ocupa paréntesis cuadrado\n",
    "\n",
    "\n",
    "**Ejemplos**\n",
    "\n",
    "Consideremos el siguiente `DataFrame` guardado en la variable `df`\n",
    "\n",
    "| |  Monto \\[M$\\] | Variación \\[\\%\\] |\n",
    "|---|---|---|\n",
    "| AGUAS-A \t| 1653 |  0.36 |\n",
    "| BSANTANDER |\t 3531 | -0.31 |\n",
    "| CMPC \t|  5998 | -0.6 |\n",
    "| ENTEL |  1408 | 0.0 |\n",
    "\n",
    "**1** Recuperamos la fila de la empresa Entel con\n",
    "\n",
    "```python\n",
    "df.loc[\"ENTEL\"]\n",
    "```\n",
    "\n",
    "**2** Recuperamos un slice con las filas de Aguas andina, Banco Santander y CMPC usando el operador `:`\n",
    "\n",
    "```python\n",
    "df.loc[\"AGUAS-A\":\"CMPC\"]\n",
    "```\n",
    "\n",
    "En este caso el operador `A:B` indica una secuencia que empieza con A y termina con B\n",
    "\n",
    "**3** Recuperamos un slice con las filas Entel y Aguas Andina usando `fancy indexing`\n",
    "\n",
    "```python\n",
    "df.loc[[\"ENTEL\", \"AGUAS-A\"]]\n",
    "```\n",
    "\n",
    "Recordemos que `fancy indexing` es indexar en base a una lista (o ndarray) que contiene los índices\n",
    "\n",
    "**4** Recuperamos un slice con las filas anteriores pero sólo con la columna monto total usando\n",
    "\n",
    "```python\n",
    "df.loc[[\"ENTEL\", \"AGUAS-A\"], \"Monto [M$]\"]\n",
    "```\n",
    "\n",
    "Si una etiqueta está mal escrita pandas retornará un `KeyError`. Si un nombre es complicado de escribir o tiene caracteres especiales podemos usar en su lugar `df.columns`, por ejemplo\n",
    "\n",
    "```python\n",
    "df.loc[[\"ENTEL\", \"AGUAS-A\"], df.columns[0]] \n",
    "```\n",
    "\n",
    "es equivalente a \n",
    "\n",
    "```python\n",
    "df.loc[[\"ENTEL\", \"AGUAS-A\"], \"Monto [M$]\"]\n",
    "```\n",
    "\n",
    "**5** Recuperamos la columna de monto completa de forma eficiente con\n",
    "\n",
    "```python\n",
    "df[\"Monto [M$]\"] \n",
    "```\n",
    "\n",
    "Tenga presente la siguiente \"ambigüedad\" de pandas para no confudirse:\n",
    "\n",
    "```python\n",
    "df[\"Monto [M$]\"]  # Esto es equivalente a df.loc[:, \"Monto [M$]\"]  \n",
    "df[\"Monto [M$]\":]  # Esto retorna error\n",
    "df[\"BSANTANDER\"]  # Esto retorna error\n",
    "df[\"BSANTANDER\":]  # Esto es equivalente a df.loc[\"BSANTANDER\":]\n",
    "```\n"
   ]
  },
  {
   "cell_type": "markdown",
   "metadata": {},
   "source": [
    "**Indexado en base a posición**\n",
    "\n",
    "Internamente, pandas asigna un número entero a cada fila y cada columna que corresponde a su posición\n",
    "\n",
    "\n",
    "| |  0 | 1 |\n",
    "|---|---|---|\n",
    "| 0\t| 1653 |  0.36 |\n",
    "| 1 |\t 3531 | -0.31 |\n",
    "| 2 \t|  5998 | -0.6 |\n",
    "| 3 |  1408 | 0.0 |\n",
    "\n",
    "Se puede usar la función `iloc[]` para **indexar y hacer slicing en base a la posición**\n",
    "\n",
    "Por ejemplo\n",
    "\n",
    "```python\n",
    "df.loc[\"ENTEL\"]\n",
    "```\n",
    "y\n",
    "```python\n",
    "df.iloc[3]\n",
    "```\n",
    "son equivalentes. Notar que `iloc[]` soporta todo lo que vimos anteriormente\n"
   ]
  },
  {
   "cell_type": "markdown",
   "metadata": {},
   "source": [
    "### Ejercicio práctico\n",
    "\n",
    "Considerando el `DataFrame` anterior"
   ]
  },
  {
   "cell_type": "code",
   "execution_count": null,
   "metadata": {
    "ExecuteTime": {
     "end_time": "2020-06-06T19:55:37.526992Z",
     "start_time": "2020-06-06T19:55:37.516749Z"
    }
   },
   "outputs": [],
   "source": [
    "clientes = ['Pablo', 'Marianna', 'Matthieu', 'Luis', 'Eliana', 'Cristobal']\n",
    "\n",
    "ventas = {\n",
    "    'lechugas [unidades]': [1, 0, 1, 2, 0, 0],\n",
    "    'papas [kilos]': [0.5, 2, 1.5, 1.2, 0, 5]\n",
    "}\n",
    "\n",
    "df = pd.DataFrame(data=ventas, index=clientes)"
   ]
  },
  {
   "cell_type": "markdown",
   "metadata": {},
   "source": [
    "- Recupere e imprima la fila del cliente Luis\n",
    "- Recupere e imprima la columna de las papas\n",
    "- Recupere e imprima el sub dataframe de los clientes Pablo, Marianna y Matthieu\n",
    "- Recupere e imprima el sub dataframe de los clientes Pablo y Cristobal\n",
    "- Repita lo anterior pero sólo para la columna lechugas\n",
    "\n",
    "Compare el resultado de `loc[\"Matthieu\"]` y `iloc[2]` ¿Son equivalentes? ¿Cuál retorna más rápido?"
   ]
  },
  {
   "cell_type": "markdown",
   "metadata": {},
   "source": [
    "**Comentarios y solución:**"
   ]
  },
  {
   "cell_type": "code",
   "execution_count": 6,
   "metadata": {
    "ExecuteTime": {
     "end_time": "2020-06-06T19:55:37.864805Z",
     "start_time": "2020-06-06T19:55:37.668835Z"
    }
   },
   "outputs": [
    {
     "data": {
      "image/jpeg": "[encoded data removed]",
      "text/html": [
       "\n",
       "        <iframe\n",
       "            width=\"640\"\n",
       "            height=\"360\"\n",
       "            src=\"https://www.youtube.com/embed/6M3P7ivflsw?modestbranding=1&disablekb=0&autoplay=0&rel=0&showinfo=0\"\n",
       "            frameborder=\"0\"\n",
       "            allowfullscreen\n",
       "        ></iframe>\n",
       "        "
      ],
      "text/plain": [
       "<IPython.lib.display.YouTubeVideo at 0x7fc2a06ce350>"
      ]
     },
     "execution_count": 6,
     "metadata": {},
     "output_type": "execute_result"
    }
   ],
   "source": [
    "YouTubeVideo_formato('6M3P7ivflsw')"
   ]
  },
  {
   "cell_type": "markdown",
   "metadata": {},
   "source": [
    "**Indexado rápido de un elemento**\n",
    "\n",
    "Si queremos recuperar sólo un elemento del DataFrame se recomienda usar las funciones `at[]` e `iat[]`\n",
    "\n",
    "```python\n",
    ">>> df.at[\"ENTEL\", \"Monto [M$]\"]\n",
    ">>> df.iat[3, 0]\n",
    "```\n",
    "\n",
    "Son mucho más rápidas que `loc[]` e `iloc[]` pero no permiten hacer *slicing* ni *fancy indexing*"
   ]
  },
  {
   "cell_type": "markdown",
   "metadata": {},
   "source": [
    "## Combinación y manipulación de DataFrames\n",
    "\n",
    "Existen atributos y funciones que nos permiten combinar DataFrames, por ejemplo\n",
    "\n",
    "- Extender nuestra tabla con filas o columnas nuevas \n",
    "- Unir dos tablas\n",
    "- Intersectar dos tablas\n",
    "- Eliminar filas y columnas de nuestra tabla\n",
    "\n",
    "**Agregando filas y columnas**  \n",
    "\n",
    "Podemos anexar un DataFrame al final de otro usando el atributo `append`\n",
    "\n",
    "```python\n",
    "df_nuevo = pd.DataFrame([[100, -30.0]], \n",
    "                        index=['JabonCopito'], \n",
    "                        columns=['Monto [M]', 'variación [%]'])\n",
    "df.append(df_nuevo, \n",
    "          ignore_index=False, # La combinación usa las etiquetas de df y df_nuevo\n",
    "          verify_integrity=False # No verifica si existen índices duplicados\n",
    "         )\n",
    "```\n",
    "\n",
    "Notar que `df1.append(df2)` retorna un nuevo DataFrame\n",
    "\n",
    "También se puede lograr algo similar usando la función `pandas.concat`\n",
    "\n",
    "```python\n",
    "pd.concat([df, df_nuevo], \n",
    "          axis=0, # Eje de concatenación 0:filas, 1: columnas\n",
    "          join='inner', # Especifica que se hace con el eje que no se une\n",
    "          ignore_index: bool = False, # Igual que append\n",
    "          verify_integrity: bool = False, # Igual que append\n",
    "```\n",
    "\n",
    "El argumento principal es una secuencia de DataFrames \n",
    "\n",
    "- Podemos juntar más de dos DataFrames\n",
    "- Podemos juntarlos en filas o en columnas con `axis`\n",
    "- Podemos especificar que ocurre cuando las filas/columnas no calzan con `join`\n",
    "\n",
    "```{note}\n",
    "Por defecto, cuando usamos `append` o `concat` los valores que no se alinean al juntar dos dataframes se llenarán con NaNs\n",
    "```\n",
    "\n",
    "Finalmente podemos agregar una columna nueva usando el atributo `insert`\n",
    "\n",
    "```python\n",
    "df.insert(loc,  # Ubicación de la nueva columna\n",
    "          column, # Nombre de la nueva columna\n",
    "          value,  # Lista o ndarray con valores\n",
    "          allow_duplicates=False # Impide agregar una columna con una etiqueta existente\n",
    "         )\n",
    "                  \n",
    "```\n",
    "\n",
    "La operación `insert` es por defecto *inplace* es decir que modifica directamente a `df`"
   ]
  },
  {
   "cell_type": "markdown",
   "metadata": {},
   "source": [
    "### Ejercicio práctico\n",
    "\n",
    "- Utilice `append` para  agregar `df2` a `df`\n",
    "- Utilice `concat` para combinar `df` y `df2`. Pruebe la opción axis 0 y 1\n",
    "- Utilice `concat` para combinar `df` y `df3`. Pruebe la opción `inner` y `outer`\n",
    "- Utilice `insert` para agregar a `df` una columna llamada \"platanos [kilos]\" con valores [2, 1.5, 3, 4, 0, 1.5]\n"
   ]
  },
  {
   "cell_type": "code",
   "execution_count": null,
   "metadata": {
    "ExecuteTime": {
     "end_time": "2020-06-06T19:55:38.134943Z",
     "start_time": "2020-06-06T19:55:38.030620Z"
    }
   },
   "outputs": [],
   "source": [
    "clientes = ['Pablo', 'Marianna', 'Matthieu', 'Luis', 'Eliana', 'Cristobal']\n",
    "\n",
    "ventas = {\n",
    "    'lechugas [unidades]': [1, 0, 1, 2, 0, 0],\n",
    "    'papas [kilos]': [0.5, 2, 1.5, 1.2, 0, 5]\n",
    "}\n",
    "\n",
    "df = pd.DataFrame(data=ventas, index=clientes)\n",
    "df2 = pd.DataFrame([[3, 0.5]], index=['Hector'], columns=df.columns)\n",
    "df3 = pd.DataFrame([[0, 2]], index=['Christian'], columns=['lechugas [unidades]', 'platanos [kilos]'])\n",
    "display(df, df2, df3)"
   ]
  },
  {
   "cell_type": "markdown",
   "metadata": {},
   "source": [
    "**Comentarios y solución**"
   ]
  },
  {
   "cell_type": "code",
   "execution_count": null,
   "metadata": {
    "ExecuteTime": {
     "end_time": "2020-06-06T19:55:38.601108Z",
     "start_time": "2020-06-06T19:55:38.347081Z"
    }
   },
   "outputs": [],
   "source": [
    "YouTubeVideo_formato('TzEuBC5bwUY')"
   ]
  },
  {
   "cell_type": "markdown",
   "metadata": {},
   "source": [
    "**Unión e intersección de DataFrames**\n",
    "\n",
    "Podemos combinar DataFrames de acuerdo a sus contenidos con la función `pandas.merge`\n",
    "\n",
    "```python\n",
    "pandas.merge(left, # Primer DataFrame\n",
    "             right, # Segundo DataFrame\n",
    "             how: str = 'inner', # Especifica como se uniran los DataFrames\n",
    "             on=None, # Especifica la columna que se usa para combinar la DataFrames\n",
    "             ...\n",
    "            )\n",
    "```\n",
    "\n",
    "Algunos detalles\n",
    "\n",
    "- La columna que se especifica en `on` debe existir en ambos DataFrames\n",
    "- El argumento `how` tiene las siguientes opciones\n",
    "    - `left`: Se usan las llaves del primer DataFrame\n",
    "    - `right`: Se usan las llaves del segundo DataFrame\n",
    "    - `inner`: Se usa una intersección de las llaves de ambos DataFrames\n",
    "    - `outer`: Se usa una unión de las llaves de ambos DataFrames\n"
   ]
  },
  {
   "cell_type": "markdown",
   "metadata": {},
   "source": [
    "### Ejercicio práctico\n",
    "\n",
    "\n",
    "Considere los DataFrames `dfa` y `dfb`\n",
    "\n",
    "- Estudie la diferencia de usar `pd.concat` y `pd.merge`\n",
    "- Para `merge` compare la opción `on=Alumno` con `on=Curso`\n",
    "- Para `merge` compare la opción `join=inner`, `join=outer` y `join=left` \n",
    "\n",
    "Ahora considera el DataFrame `dfc`\n",
    "\n",
    "- Fusiónelo con `dfa` y `dfb` comparando las opciones vistas anteriormente"
   ]
  },
  {
   "cell_type": "code",
   "execution_count": null,
   "metadata": {
    "ExecuteTime": {
     "end_time": "2020-06-06T19:55:38.635845Z",
     "start_time": "2020-06-06T19:55:38.602926Z"
    }
   },
   "outputs": [],
   "source": [
    "dfa = pd.DataFrame({'Alumno': ['Jeese', 'James', 'Ash', 'Misty'], \n",
    "                    'Curso': ['INFO335', 'INFO147', 'INFO147', 'INFO185'],\n",
    "                    'NotaP1': np.random.randint(1, 7, 4)})\n",
    "\n",
    "dfb = pd.DataFrame({'Alumno': ['Ash', 'James', 'Jeese', 'Brock'], \n",
    "                    'Curso': ['INFO147', 'INFO147', 'INFO335', 'INFO335'],\n",
    "                    'NotaP2': np.random.randint(1, 7, 4)})\n",
    "\n",
    "dfc = pd.DataFrame({'Curso': ['INFO335', 'INFO147', 'INFOXXX'], \n",
    "                    'Profesor': ['Cristobal', 'Pablo', 'ProfesorX']})\n",
    "\n",
    "display(dfa, dfb, dfc)"
   ]
  },
  {
   "cell_type": "markdown",
   "metadata": {},
   "source": [
    "**Comentarios y solución**"
   ]
  },
  {
   "cell_type": "code",
   "execution_count": null,
   "metadata": {
    "ExecuteTime": {
     "end_time": "2020-06-06T19:55:38.961508Z",
     "start_time": "2020-06-06T19:55:38.743935Z"
    }
   },
   "outputs": [],
   "source": [
    "YouTubeVideo_formato('65JAu1y9pJo')"
   ]
  },
  {
   "cell_type": "markdown",
   "metadata": {},
   "source": [
    "**Eliminando filas y columnas**\n",
    "\n",
    "Podemos eliminar filas o columnas de un DataFrame `df` con el atributo `drop`\n",
    "\n",
    "```python\n",
    "df.drop(labels=None, # Etiquetas que quiero elimina, un string o una lista\n",
    "        axis=0, # Eliminar la etiqueta de las filas: 0 o de las columnas: 1\n",
    "        inplace=False, # No modifica df, en su lugar retorna un DataFrame nuevo\n",
    "        ...\n",
    "        )\n",
    "```\n",
    "\n",
    "También podemos extraer y eliminar una columna usando el atributo `pop`"
   ]
  },
  {
   "cell_type": "markdown",
   "metadata": {},
   "source": [
    "**Ordenando DataFrames**"
   ]
  },
  {
   "cell_type": "markdown",
   "metadata": {},
   "source": [
    "Se puede ordenar un `DataFrame` según los valores de una columna usando el atributo `sort_values`\n",
    "\n",
    "```python\n",
    "df.sort_values(by, # Columna que guia el ordenamiento \n",
    "               axis=0, # Se ordena según 0: filas o 1:columnas\n",
    "               ascending=True, # Se ordenan los valores de menor a mayor\n",
    "               inplace=False, # No se modifica df, se retorna un nuevo DataFrame\n",
    "```\n",
    "\n",
    "El argumento `by` recibe una etiqueta o una lista de etiquetas\n",
    "\n",
    "En el segundo caso se ordenan jerarquicamente\n",
    "\n",
    "También existe el atributo `sort_index` que permite ordenar filas y columnas según su etiqueta"
   ]
  },
  {
   "cell_type": "markdown",
   "metadata": {},
   "source": [
    "## Operando con DataFrames "
   ]
  },
  {
   "cell_type": "markdown",
   "metadata": {},
   "source": [
    "**Operaciones aritméticas y lógicas**\n",
    "\n",
    "Podemos hacer operaciones aritméticas simples sobre DataFrames con los atributos \n",
    "\n",
    "- `add` y `sub`\n",
    "- `mul` y `div`\n",
    "- `pow`\n",
    "- y sus versiones reversas `radd`, `rdiv`, `rpow` etc\n",
    "\n",
    "También podemos hacer operaciones lógicas con los atributos\n",
    "\n",
    "- `eq` y `nq` (igual y no igual)\n",
    "- `lt`, `gt` (menor que y mayor que)\n",
    "- `le`, `ge` (menor o igual y mayor o igual\n",
    "\n",
    "Todos estos atributos tienen argumento `axis` para especificar si la operación es en fila o columna \n",
    "\n",
    "Por ejemplo\n",
    "\n",
    "```python\n",
    "df.add(10) # Le suma 10 a todos los valores de df\n",
    "df.add([0, 2]) # Le suma 0 a la primera columna y 2 a la segunda columna de df\n",
    "df.add(df2) # Suma los valores de df y df2 siguiendo los índices\n",
    "```\n",
    "\n",
    "Si usamos una lista tiene que ser tan larga como columnas tenga el `DataFrame`\n",
    "\n",
    "\n",
    "También podemos extraer un `ndarray` a partir de un `DataFrame` usando el atributo `values`. Esto permite aplicar cualquiera de las funciones de NumPy que vimos en lecciones anteriores\n",
    "\n",
    "```python\n",
    "df.values # Returna un ndarray\n",
    "```\n",
    "\n",
    "```{note}\n",
    "Si nuestro DataFrame tiene *strings* entonces `values` no retornará un arreglo de tipo numérico\n",
    "```\n",
    "\n",
    "En este caso tenemos dos opciones:\n",
    "\n",
    "- Podemos usar el atributo [`select_dtypes`](https://pandas.pydata.org/pandas-docs/stable/reference/api/pandas.DataFrame.select_dtypes.html) para obtener un nuevo DataFrame con columnas de tipo numérico\n",
    "- Podemos  convertir los atributos string a numérico (más adelante detallaremos esto)\n",
    "\n",
    "En general las operaciones entre columnas se guian por el índice de fila\n",
    "\n",
    "- Si un índice no es compartido se rellena con un NaN\n",
    "- También podemos especificar `fill_value`\n",
    "\n",
    "Si tenemos NaN en filas o columnas podemos\n",
    "\n",
    "- Eliminarlos con el atributo `dropna(axis='columns', how='any')`\n",
    "- Rellenarlos con el atributo `fillna(valor)`\n"
   ]
  },
  {
   "cell_type": "markdown",
   "metadata": {},
   "source": [
    "**Operaciones de reducciones**\n",
    "\n",
    "Se pueden aplicar las reducciones que vimos en NumPy directamente sobre las columnas\n",
    "\n",
    "Algunos atributos para hacer reducción son\n",
    "\n",
    "- `count()`\n",
    "- `sum()` y `prod()`\n",
    "- `mean()` y `std()`\n",
    "- `max()` e `idxmax()`\n",
    "- entre otros\n",
    "\n",
    "También podemos usar el atributo `describe()` que nos entrega varios estadísticos de nuestras columnas"
   ]
  },
  {
   "cell_type": "markdown",
   "metadata": {},
   "source": [
    "### Ejercicio práctico\n",
    "\n",
    "\n",
    "Considera el dataFrame `df`"
   ]
  },
  {
   "cell_type": "code",
   "execution_count": null,
   "metadata": {
    "ExecuteTime": {
     "end_time": "2020-06-06T19:55:39.168792Z",
     "start_time": "2020-06-06T19:55:39.092249Z"
    }
   },
   "outputs": [],
   "source": [
    "clientes = ['Pablo', 'Marianna', 'Matthieu', 'Luis', 'Eliana', 'Cristobal']\n",
    "\n",
    "ventas = {\n",
    "    'lechugas [unidades]': [1, 0, 1, 2, 0, 0],\n",
    "    'papas [kilos]': [0.5, 2, 1.5, 1.2, 0, 5]\n",
    "}\n",
    "\n",
    "df = pd.DataFrame(data=ventas, index=clientes)"
   ]
  },
  {
   "cell_type": "markdown",
   "metadata": {},
   "source": [
    "- Digamos que la pesa de la frutería retorna 0.1 Kg de más. Obtenga un nuevo DataFrame que corrija este error\n",
    "- Encuentre los clientes que compraron más lechugas y más kilos de papas\n",
    "- Calcule el total de lechugas y kilos de papas vendidos\n",
    "- Calcule el promedio de lechugas y kilos de papa vendidos"
   ]
  },
  {
   "cell_type": "markdown",
   "metadata": {},
   "source": [
    "**Comentarios y solución**"
   ]
  },
  {
   "cell_type": "code",
   "execution_count": null,
   "metadata": {
    "ExecuteTime": {
     "end_time": "2020-06-06T19:55:39.449719Z",
     "start_time": "2020-06-06T19:55:39.247113Z"
    }
   },
   "outputs": [],
   "source": [
    "YouTubeVideo_formato('wBQNPVPjNHE')"
   ]
  },
  {
   "cell_type": "code",
   "execution_count": null,
   "metadata": {},
   "outputs": [],
   "source": []
  }
 ],
 "metadata": {
  "kernelspec": {
   "display_name": "Python 3",
   "language": "python",
   "name": "python3"
  },
  "language_info": {
   "codemirror_mode": {
    "name": "ipython",
    "version": 3
   },
   "file_extension": ".py",
   "mimetype": "text/x-python",
   "name": "python",
   "nbconvert_exporter": "python",
   "pygments_lexer": "ipython3",
   "version": "3.7.6"
  },
  "toc": {
   "base_numbering": 1,
   "nav_menu": {},
   "number_sections": true,
   "sideBar": true,
   "skip_h1_title": false,
   "title_cell": "Table of Contents",
   "title_sidebar": "Contents",
   "toc_cell": false,
   "toc_position": {
    "height": "calc(100% - 180px)",
    "left": "10px",
    "top": "150px",
    "width": "275.2px"
   },
   "toc_section_display": true,
   "toc_window_display": true
  }
 },
 "nbformat": 4,
 "nbformat_minor": 2
}
