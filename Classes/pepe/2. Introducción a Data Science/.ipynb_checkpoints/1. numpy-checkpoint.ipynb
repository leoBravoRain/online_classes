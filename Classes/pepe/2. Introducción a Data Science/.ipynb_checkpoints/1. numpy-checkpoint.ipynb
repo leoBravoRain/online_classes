{
 "cells": [
  {
   "cell_type": "markdown",
   "metadata": {},
   "source": [
    " # Arreglos y operaciones vectoriales con [NumPy](http://www.numpy.org/)\n",
    "\n",
    "\n",
    "NumPy es un paquete de computación científica con Python que provee:\n",
    "\n",
    "- Un objecto contenedor muy versatil: arreglo N-dimensional `ndarray`\n",
    "- Funciones capaces de hacer *broadcasting*\n",
    "- Módulos para algebra lineal, Transformada de Fourier, generación de número aleatorios, entre otros\n",
    "- Herramientas para integrar código C/C++\n"
   ]
  },
  {
   "cell_type": "markdown",
   "metadata": {},
   "source": [
    "**Instalación**\n",
    "    \n",
    "Con nuestro ambiente conda activado:\n",
    "\n",
    "    conda install numpy\n",
    "    \n",
    "Esto instalará numpy y las librerías de bajo nivel BLAS y MKL\n",
    "\n",
    "Luego importamos usando"
   ]
  },
  {
   "cell_type": "code",
   "execution_count": 2,
   "metadata": {
    "ExecuteTime": {
     "end_time": "2020-05-16T00:19:24.853448Z",
     "start_time": "2020-05-16T00:19:24.744862Z"
    }
   },
   "outputs": [
    {
     "name": "stdout",
     "output_type": "stream",
     "text": [
      "Version:  1.19.2\n"
     ]
    }
   ],
   "source": [
    "import numpy as np\n",
    "print(\"Version: \", np.__version__)"
   ]
  },
  {
   "cell_type": "code",
   "execution_count": 13,
   "metadata": {},
   "outputs": [],
   "source": [
    "import numpy as np"
   ]
  },
  {
   "cell_type": "code",
   "execution_count": 14,
   "metadata": {},
   "outputs": [
    {
     "name": "stdout",
     "output_type": "stream",
     "text": [
      "1.19.2\n"
     ]
    }
   ],
   "source": [
    "print(numpy.__version__)"
   ]
  },
  {
   "cell_type": "code",
   "execution_count": 17,
   "metadata": {},
   "outputs": [
    {
     "data": {
      "text/plain": [
       "array([[1, 2, 3],\n",
       "       [2, 3, 4]])"
      ]
     },
     "execution_count": 17,
     "metadata": {},
     "output_type": "execute_result"
    }
   ],
   "source": [
    "np.array(lista)"
   ]
  },
  {
   "cell_type": "markdown",
   "metadata": {},
   "source": [
    "## Objeto ndarray (alias array)\n",
    "\n",
    "Una lista `lista` de Python es un tipo de arreglo donde cada elemento puede ser de tipo diferente\n",
    "\n",
    "En general es muy ineficiente hacer cálculos numéricos usando listas\n",
    "\n",
    "Como reemplazo usaremos el objeto `ndarray` de NumPy, que corresponde a un **arreglo n-dimensional de tipo fijo**\n",
    "\n",
    "A diferencia de una lista, las operaciones matemáticas y reducciones sobre ndarray son eficientes\n",
    "\n",
    "Podemos crear un ndarray a partir de \n",
    "\n",
    "- una lista o tupla usando `np.array`\n",
    "- un fichero, por ejemplo usando `np.genfromtxt`\n",
    "- funciones generadoras de NumPy, por ejemplo `np.linspace`, `np.zeros`, etc\n",
    "\n",
    "### Ndarray a partir de listas y atributos básicos"
   ]
  },
  {
   "cell_type": "code",
   "execution_count": 3,
   "metadata": {
    "ExecuteTime": {
     "end_time": "2020-05-16T00:02:22.524424Z",
     "start_time": "2020-05-16T00:02:22.515949Z"
    }
   },
   "outputs": [
    {
     "name": "stdout",
     "output_type": "stream",
     "text": [
      "L es un <class 'list'>\n",
      "A es un <class 'numpy.ndarray'>\n"
     ]
    },
    {
     "data": {
      "text/plain": [
       "array([[0, 1, 2],\n",
       "       [3, 4, 5]])"
      ]
     },
     "metadata": {},
     "output_type": "display_data"
    }
   ],
   "source": [
    "# Supongamos que tenemos la siguiente lista de listas\n",
    "L = [[0, 1, 2], [3, 4, 5]]\n",
    "print(\"L es un\", type(L))\n",
    "# Podemos transformarla a ndarray con\n",
    "A = np.array(L)\n",
    "print(\"A es un\", type(A))\n",
    "display(A)"
   ]
  },
  {
   "cell_type": "code",
   "execution_count": 8,
   "metadata": {},
   "outputs": [
    {
     "name": "stdout",
     "output_type": "stream",
     "text": [
      "<class 'list'>\n",
      "<class 'numpy.ndarray'>\n"
     ]
    }
   ],
   "source": [
    "lista = [[1,2,3], [2,3,4]]\n",
    "\n",
    "print(type(lista))\n",
    "\n",
    "array = numpy.array(lista)\n",
    "\n",
    "print(type(array))"
   ]
  },
  {
   "cell_type": "markdown",
   "metadata": {},
   "source": [
    "Los tipos de dato estándar de NumPy son:\n",
    "\n",
    "- Enteros: int8, int16, int32, int64\n",
    "- Enteros sin signo: uint8, uint16, uint32, uint64\n",
    "- Flotantes (reales): float16, float32, float64, float128\n",
    "- Números complejos: complex64, complex128, complex256\n",
    "- Booleanos: Bool\n",
    "\n",
    "Podemos forzar el tipo usando el argumento `dtype`"
   ]
  },
  {
   "cell_type": "code",
   "execution_count": 4,
   "metadata": {
    "ExecuteTime": {
     "end_time": "2020-05-16T00:02:22.795418Z",
     "start_time": "2020-05-16T00:02:22.786892Z"
    }
   },
   "outputs": [
    {
     "data": {
      "text/plain": [
       "array([[0, 1, 2],\n",
       "       [3, 4, 5]], dtype=int16)"
      ]
     },
     "metadata": {},
     "output_type": "display_data"
    },
    {
     "data": {
      "text/plain": [
       "array([[0., 1., 2.],\n",
       "       [3., 4., 5.]], dtype=float32)"
      ]
     },
     "metadata": {},
     "output_type": "display_data"
    }
   ],
   "source": [
    "display(np.array(L, dtype=np.int16))\n",
    "display(np.array(L, dtype=np.float32))"
   ]
  },
  {
   "cell_type": "markdown",
   "metadata": {},
   "source": [
    "Además el atributo `dtype` nos permite ver el tipo de un arreglo NumPy"
   ]
  },
  {
   "cell_type": "code",
   "execution_count": 5,
   "metadata": {
    "ExecuteTime": {
     "end_time": "2020-05-16T00:02:23.574143Z",
     "start_time": "2020-05-16T00:02:23.565292Z"
    }
   },
   "outputs": [
    {
     "name": "stdout",
     "output_type": "stream",
     "text": [
      "x es de tipo complex128\n"
     ]
    }
   ],
   "source": [
    "x = np.array([1. + 2j])\n",
    "print(\"x es de tipo\", x.dtype)"
   ]
  },
  {
   "cell_type": "markdown",
   "metadata": {},
   "source": [
    "\n",
    "- El atributo `ndim` es un entero que nos indica el número de dimensiones o ejes del arreglo\n",
    "- El atributo `shape` es una tupla de entero que nos indica el tamaño del arreglo en cada una de sus dimensiones\n",
    "\n",
    "Por ejemplo:"
   ]
  },
  {
   "cell_type": "code",
   "execution_count": 6,
   "metadata": {
    "ExecuteTime": {
     "end_time": "2020-05-16T00:02:26.733889Z",
     "start_time": "2020-05-16T00:02:26.722060Z"
    }
   },
   "outputs": [
    {
     "data": {
      "text/plain": [
       "array([[0, 1, 2],\n",
       "       [3, 4, 5]])"
      ]
     },
     "metadata": {},
     "output_type": "display_data"
    },
    {
     "name": "stdout",
     "output_type": "stream",
     "text": [
      "A tiene  2 dimensiones/ejes\n"
     ]
    },
    {
     "data": {
      "text/plain": [
       "(2, 3)"
      ]
     },
     "metadata": {},
     "output_type": "display_data"
    },
    {
     "name": "stdout",
     "output_type": "stream",
     "text": [
      "El eje 0 tiene largo 2\n",
      "El eje 1 tiene largo 3\n"
     ]
    }
   ],
   "source": [
    "display(A)\n",
    "print(\"A tiene \", A.ndim, \"dimensiones/ejes\")\n",
    "display(A.shape)\n",
    "print(\"El eje 0 tiene largo\", A.shape[0])\n",
    "print(\"El eje 1 tiene largo\", A.shape[1])"
   ]
  },
  {
   "cell_type": "code",
   "execution_count": 11,
   "metadata": {},
   "outputs": [
    {
     "data": {
      "text/plain": [
       "(2, 3)"
      ]
     },
     "execution_count": 11,
     "metadata": {},
     "output_type": "execute_result"
    }
   ],
   "source": [
    "array.shape"
   ]
  },
  {
   "cell_type": "markdown",
   "metadata": {},
   "source": [
    "### Funciones generadoras de arreglos\n",
    "\n",
    "Se pueden crear arreglos directamente desde Numpy\n",
    "\n",
    "Algunos ejemplos útiles"
   ]
  },
  {
   "cell_type": "code",
   "execution_count": 23,
   "metadata": {
    "ExecuteTime": {
     "end_time": "2020-05-16T01:57:51.862864Z",
     "start_time": "2020-05-16T01:57:51.836123Z"
    }
   },
   "outputs": [
    {
     "data": {
      "text/plain": [
       "array([[0, 0, 0],\n",
       "       [0, 0, 0],\n",
       "       [0, 0, 0]])"
      ]
     },
     "metadata": {},
     "output_type": "display_data"
    },
    {
     "data": {
      "text/plain": [
       "array([[1., 1., 1.],\n",
       "       [1., 1., 1.],\n",
       "       [1., 1., 1.]], dtype=float32)"
      ]
     },
     "metadata": {},
     "output_type": "display_data"
    },
    {
     "data": {
      "text/plain": [
       "array([[2.2, 2.2, 2.2],\n",
       "       [2.2, 2.2, 2.2],\n",
       "       [2.2, 2.2, 2.2]])"
      ]
     },
     "metadata": {},
     "output_type": "display_data"
    },
    {
     "data": {
      "text/plain": [
       "array([[1., 0., 0.],\n",
       "       [0., 1., 0.],\n",
       "       [0., 0., 1.]])"
      ]
     },
     "metadata": {},
     "output_type": "display_data"
    },
    {
     "data": {
      "text/plain": [
       "array([[-0.58474101,  1.37374249, -0.0044715 ],\n",
       "       [-0.56975999, -0.05336542,  1.9254769 ],\n",
       "       [-0.55707586,  0.85306711,  1.29985829]])"
      ]
     },
     "metadata": {},
     "output_type": "display_data"
    }
   ],
   "source": [
    "display(np.zeros(shape=(3, 3), dtype=np.int))  # Lleno de ceros\n",
    "display(np.ones(shape=(3, 3), dtype=np.float32))  # Lleno de unos\n",
    "display(np.full(shape=(3, 3), fill_value=2.2))  # Lleno de PI\n",
    "display(np.eye(3))  # Matriz identidad\n",
    "display(np.random.randn(3, 3))  # Matriz aleatoria con distribución N(0, 1)"
   ]
  },
  {
   "cell_type": "code",
   "execution_count": 24,
   "metadata": {},
   "outputs": [
    {
     "data": {
      "text/plain": [
       "array([[0.02, 0.02, 0.02],\n",
       "       [0.02, 0.02, 0.02],\n",
       "       [0.02, 0.02, 0.02],\n",
       "       [0.02, 0.02, 0.02]])"
      ]
     },
     "execution_count": 24,
     "metadata": {},
     "output_type": "execute_result"
    }
   ],
   "source": [
    "np.full(shape = (4, 3), fill_value = 0.020)"
   ]
  },
  {
   "cell_type": "markdown",
   "metadata": {},
   "source": [
    "## Manipulación de matrices y vectores\n",
    "\n",
    "Es usual que antes de operar un ndarray necesitemos cambiar su tamaño o número de dimensiones\n",
    "\n",
    "Algunas operaciones típicas para modificar la forma de un arreglo son: `reshape`, `tile`, `repeat`, `ravel` y `transpose`\n",
    "\n",
    "`reshape` reorganice las dimensiones de un arreglo pero debe preservar el tamaño"
   ]
  },
  {
   "cell_type": "code",
   "execution_count": 8,
   "metadata": {
    "ExecuteTime": {
     "end_time": "2020-05-16T01:59:38.677307Z",
     "start_time": "2020-05-16T01:59:38.669038Z"
    }
   },
   "outputs": [
    {
     "data": {
      "text/plain": [
       "array([0, 1, 2, 3, 4, 5])"
      ]
     },
     "metadata": {},
     "output_type": "display_data"
    },
    {
     "data": {
      "text/plain": [
       "array([[0, 1],\n",
       "       [2, 3],\n",
       "       [4, 5]])"
      ]
     },
     "metadata": {},
     "output_type": "display_data"
    },
    {
     "data": {
      "text/plain": [
       "array([[0, 1, 2],\n",
       "       [3, 4, 5]])"
      ]
     },
     "metadata": {},
     "output_type": "display_data"
    }
   ],
   "source": [
    "A = np.arange(6)\n",
    "display(A)\n",
    "# Convierte 6 a 3x2\n",
    "display(np.reshape(A, (3, 2)))  \n",
    "# Convierte 6 a 2x3\n",
    "display(np.reshape(A, (2, 3)))"
   ]
  },
  {
   "cell_type": "markdown",
   "metadata": {},
   "source": [
    "`transpose` puede utilizarse para intercambiar la posición de los ejes/dimensiones de un ndarray\n",
    "\n",
    "Tiene el mismo significado de la trasposición matricial\n",
    "\n",
    "<img src=\"img/transpose.jpg\" width=\"400\">\n",
    "\n",
    "Por ejemplo:"
   ]
  },
  {
   "cell_type": "code",
   "execution_count": 9,
   "metadata": {
    "ExecuteTime": {
     "end_time": "2020-05-16T00:02:37.934718Z",
     "start_time": "2020-05-16T00:02:37.923818Z"
    }
   },
   "outputs": [
    {
     "data": {
      "text/plain": [
       "array([[0, 1, 2],\n",
       "       [3, 4, 5],\n",
       "       [6, 7, 8]])"
      ]
     },
     "metadata": {},
     "output_type": "display_data"
    },
    {
     "data": {
      "text/plain": [
       "array([[0, 3, 6],\n",
       "       [1, 4, 7],\n",
       "       [2, 5, 8]])"
      ]
     },
     "metadata": {},
     "output_type": "display_data"
    }
   ],
   "source": [
    "A = np.arange(9).reshape(3, 3)\n",
    "display(A)\n",
    "display(np.transpose(A)) # Equivalente a A.transpose() o A.T"
   ]
  },
  {
   "cell_type": "markdown",
   "metadata": {},
   "source": [
    "## Indexación y *slicing*\n",
    "\n",
    "Al igual que otros contenedores de Python los ndarray soportan *slicing*\n",
    "\n",
    "> Slicing es crear una arreglo a partir de una indexación sobre otro arreglo\n",
    "\n",
    "Sea por por ejemplo:"
   ]
  },
  {
   "cell_type": "code",
   "execution_count": 12,
   "metadata": {},
   "outputs": [
    {
     "data": {
      "text/plain": [
       "array([[0, 1, 2],\n",
       "       [3, 4, 5]])"
      ]
     },
     "metadata": {},
     "output_type": "display_data"
    }
   ],
   "source": [
    "L = [[0, 1, 2], [3, 4, 5]]\n",
    "A = np.array(L)\n",
    "display(A)"
   ]
  },
  {
   "cell_type": "markdown",
   "metadata": {},
   "source": [
    "Para acceder al elemento en la segunda fila y primera columna usaríamos"
   ]
  },
  {
   "cell_type": "code",
   "execution_count": 13,
   "metadata": {},
   "outputs": [
    {
     "data": {
      "text/plain": [
       "3"
      ]
     },
     "metadata": {},
     "output_type": "display_data"
    },
    {
     "data": {
      "text/plain": [
       "3"
      ]
     },
     "metadata": {},
     "output_type": "display_data"
    }
   ],
   "source": [
    "display(L[1][0], # Con la lista\n",
    "        A[1, 0]) # Con el ndarray"
   ]
  },
  {
   "cell_type": "markdown",
   "metadata": {},
   "source": [
    "El ndarray nos da mucha flexibilidad para hacer slicing"
   ]
  },
  {
   "cell_type": "code",
   "execution_count": 14,
   "metadata": {
    "ExecuteTime": {
     "end_time": "2020-05-16T02:04:56.026880Z",
     "start_time": "2020-05-16T02:04:56.006785Z"
    }
   },
   "outputs": [
    {
     "data": {
      "text/plain": [
       "array([1, 4])"
      ]
     },
     "metadata": {},
     "output_type": "display_data"
    },
    {
     "data": {
      "text/plain": [
       "array([0, 1, 2])"
      ]
     },
     "metadata": {},
     "output_type": "display_data"
    },
    {
     "data": {
      "text/plain": [
       "array([3, 5])"
      ]
     },
     "metadata": {},
     "output_type": "display_data"
    },
    {
     "data": {
      "text/plain": [
       "4"
      ]
     },
     "metadata": {},
     "output_type": "display_data"
    }
   ],
   "source": [
    "display(A[:, 1])  # Retorna la segunda columna\n",
    "display(A[0, :]) # Retorna la primera fila \n",
    "display(A[1, ::2]) # Retorna los elementos de la primera fila y columnas pares\n",
    "display(A[-1, -2]) # Retorna los elementos de la ultima fila y penultima columna"
   ]
  },
  {
   "cell_type": "markdown",
   "metadata": {},
   "source": [
    "También podemos indexar usando un arreglo de booleanos"
   ]
  },
  {
   "cell_type": "code",
   "execution_count": 16,
   "metadata": {
    "ExecuteTime": {
     "end_time": "2020-05-16T00:02:46.633407Z",
     "start_time": "2020-05-16T00:02:46.626376Z"
    }
   },
   "outputs": [
    {
     "data": {
      "text/plain": [
       "array([0, 3, 4])"
      ]
     },
     "metadata": {},
     "output_type": "display_data"
    }
   ],
   "source": [
    "A = np.array([0, 2, 1, 3, 4])\n",
    "B = np.array([True, False, False, True, True])\n",
    "display(A[B])"
   ]
  },
  {
   "cell_type": "markdown",
   "metadata": {},
   "source": [
    "```{note}\n",
    "Algunas operaciones sobre arreglos no hacen copias (usan referencias)\n",
    "```\n",
    "\n",
    "En particular cuando hacemos un slice, estamos modificando el arreglo original"
   ]
  },
  {
   "cell_type": "code",
   "execution_count": 17,
   "metadata": {
    "ExecuteTime": {
     "end_time": "2020-05-16T00:02:47.333289Z",
     "start_time": "2020-05-16T00:02:47.323775Z"
    }
   },
   "outputs": [
    {
     "data": {
      "text/plain": [
       "True"
      ]
     },
     "execution_count": 17,
     "metadata": {},
     "output_type": "execute_result"
    }
   ],
   "source": [
    "A = np.arange(100).reshape(10, 10)\n",
    "B = A\n",
    "B is A"
   ]
  },
  {
   "cell_type": "markdown",
   "metadata": {},
   "source": [
    "Si modifico A se ve reflejado en B"
   ]
  },
  {
   "cell_type": "code",
   "execution_count": 18,
   "metadata": {
    "ExecuteTime": {
     "end_time": "2020-05-16T00:02:47.847184Z",
     "start_time": "2020-05-16T00:02:47.842375Z"
    }
   },
   "outputs": [
    {
     "data": {
      "text/plain": [
       "array([[100, 100, 100, 100, 100,   5,   6,   7,   8,   9],\n",
       "       [100, 100, 100, 100, 100,  15,  16,  17,  18,  19],\n",
       "       [100, 100, 100, 100, 100,  25,  26,  27,  28,  29],\n",
       "       [100, 100, 100, 100, 100,  35,  36,  37,  38,  39],\n",
       "       [100, 100, 100, 100, 100,  45,  46,  47,  48,  49],\n",
       "       [ 50,  51,  52,  53,  54,  55,  56,  57,  58,  59],\n",
       "       [ 60,  61,  62,  63,  64,  65,  66,  67,  68,  69],\n",
       "       [ 70,  71,  72,  73,  74,  75,  76,  77,  78,  79],\n",
       "       [ 80,  81,  82,  83,  84,  85,  86,  87,  88,  89],\n",
       "       [ 90,  91,  92,  93,  94,  95,  96,  97,  98,  99]])"
      ]
     },
     "metadata": {},
     "output_type": "display_data"
    }
   ],
   "source": [
    "A[:5, :5] = 100\n",
    "display(B)"
   ]
  },
  {
   "cell_type": "markdown",
   "metadata": {},
   "source": [
    "Modificaciones en subarreglos (vistas) también son referenciadas"
   ]
  },
  {
   "cell_type": "markdown",
   "metadata": {},
   "source": [
    "Si queremos evitar este comportamiento se puede forzar la creación de una copia con el método `copy()`"
   ]
  },
  {
   "cell_type": "code",
   "execution_count": 20,
   "metadata": {
    "ExecuteTime": {
     "end_time": "2020-05-16T00:02:52.563246Z",
     "start_time": "2020-05-16T00:02:52.555364Z"
    }
   },
   "outputs": [
    {
     "data": {
      "text/plain": [
       "array([100, 100, 100, 100, 100,   5,   6,   7,   8,   9])"
      ]
     },
     "metadata": {},
     "output_type": "display_data"
    }
   ],
   "source": [
    "B = A.copy()\n",
    "A[0, 0] = 0\n",
    "display(B[0])"
   ]
  },
  {
   "cell_type": "markdown",
   "metadata": {},
   "source": [
    "## Operaciones sobre ndarray\n",
    "\n",
    "### Operaciones aritméticas y *Broadcasting* \n",
    "\n",
    "Los ndarray soportan las operaciones aritméticas básicas\n",
    "\n",
    "- Suma:  +, +=\n",
    "- Resta: -, -=\n",
    "- Multiplicación:  *,*= \n",
    "- División: /, /=\n",
    "- División entera: //, //=\n",
    "- Exponenciación: ** , **=\n",
    "\n",
    "Estas operaciones tienen un comportamiento element-wise (elemento a elemento), es decir\n",
    "\n",
    "$$\n",
    "\\pmatrix{0 & 1 \\\\2 & 3 } \\cdot \\pmatrix{1 & 5 \\\\2 & 2 } = \\pmatrix{0 & 5 \\\\4 & 6 }\n",
    "$$\n",
    "\n",
    "Note que no corresponde a la multiplicación usual de matrices\n",
    "\n",
    "Veamos algunos ejemplos:"
   ]
  },
  {
   "cell_type": "code",
   "execution_count": 21,
   "metadata": {
    "ExecuteTime": {
     "end_time": "2020-05-16T00:21:02.455706Z",
     "start_time": "2020-05-16T00:21:02.443045Z"
    },
    "scrolled": true
   },
   "outputs": [
    {
     "data": {
      "text/plain": [
       "array([[1., 0., 0.],\n",
       "       [0., 1., 0.],\n",
       "       [0., 0., 1.]])"
      ]
     },
     "metadata": {},
     "output_type": "display_data"
    },
    {
     "data": {
      "text/plain": [
       "array([[1., 1., 1.],\n",
       "       [1., 1., 1.],\n",
       "       [1., 1., 1.]])"
      ]
     },
     "metadata": {},
     "output_type": "display_data"
    },
    {
     "data": {
      "text/plain": [
       "array([[2., 1., 1.],\n",
       "       [1., 2., 1.],\n",
       "       [1., 1., 2.]])"
      ]
     },
     "metadata": {},
     "output_type": "display_data"
    },
    {
     "data": {
      "text/plain": [
       "array([[1., 0., 0.],\n",
       "       [0., 1., 0.],\n",
       "       [0., 0., 1.]])"
      ]
     },
     "metadata": {},
     "output_type": "display_data"
    }
   ],
   "source": [
    "N = 3\n",
    "A = np.eye(N)\n",
    "B = np.ones(shape=(N, N))\n",
    "display(A)\n",
    "display(B)\n",
    "display(A + B)\n",
    "display(A*B)  "
   ]
  },
  {
   "cell_type": "markdown",
   "metadata": {},
   "source": [
    "Cuando los términos no son del mismo tamaño se hace un *broadcast*\n",
    "\n",
    "Por ejemplo si operamos una constante con un arreglo, la constante se opera con cada elemento del arreglo"
   ]
  },
  {
   "cell_type": "code",
   "execution_count": 22,
   "metadata": {
    "ExecuteTime": {
     "end_time": "2020-05-16T00:21:57.573634Z",
     "start_time": "2020-05-16T00:21:57.564219Z"
    }
   },
   "outputs": [
    {
     "data": {
      "text/plain": [
       "array([[ 0., -1., -1.],\n",
       "       [-1.,  0., -1.],\n",
       "       [-1., -1.,  0.]])"
      ]
     },
     "execution_count": 22,
     "metadata": {},
     "output_type": "execute_result"
    }
   ],
   "source": [
    "A - 1"
   ]
  },
  {
   "cell_type": "markdown",
   "metadata": {},
   "source": [
    "### Operaciones matriciales\n",
    "\n",
    "Antes dijimos que la multiplicación con `*` se realiza elemento a elemento\n",
    "\n",
    "Para realizar una multiplicación matricial propiamente tal podemos usar `dot` o el operador `@`"
   ]
  },
  {
   "cell_type": "code",
   "execution_count": null,
   "metadata": {
    "ExecuteTime": {
     "end_time": "2020-05-16T00:35:02.211070Z",
     "start_time": "2020-05-16T00:35:02.194021Z"
    }
   },
   "outputs": [],
   "source": [
    "A = np.arange(4).reshape(2, 2)\n",
    "B = np.arange(4)[::-1].reshape(2, 2)\n",
    "display(A, B)  "
   ]
  },
  {
   "cell_type": "markdown",
   "metadata": {},
   "source": [
    "Note la diferencia:"
   ]
  },
  {
   "cell_type": "code",
   "execution_count": null,
   "metadata": {},
   "outputs": [],
   "source": [
    "display(A*B)  \n",
    "display(np.dot(A, B))"
   ]
  },
  {
   "cell_type": "markdown",
   "metadata": {
    "ExecuteTime": {
     "end_time": "2020-05-14T23:52:21.123842Z",
     "start_time": "2020-05-14T23:52:21.119785Z"
    }
   },
   "source": [
    "Otras operaciones matricionales útiles son:\n",
    "\n",
    "- `np.inner` que calcula el producto escalar o producto interno\n",
    "- `np.outer` que calcula el producto externo\n",
    "- `np.cross` que calcula  cruz"
   ]
  },
  {
   "cell_type": "code",
   "execution_count": null,
   "metadata": {
    "ExecuteTime": {
     "end_time": "2020-05-16T00:35:52.958427Z",
     "start_time": "2020-05-16T00:35:52.951551Z"
    }
   },
   "outputs": [],
   "source": [
    "display(np.inner(A, B))\n",
    "display(np.outer(A, B))"
   ]
  },
  {
   "cell_type": "markdown",
   "metadata": {
    "ExecuteTime": {
     "end_time": "2020-05-14T23:53:14.986015Z",
     "start_time": "2020-05-14T23:53:14.980209Z"
    }
   },
   "source": [
    "El módulo  [`linalg`](https://numpy.org/doc/stable/reference/routines.linalg.html) de NumPy contiene muchas más funciones de álgebra lineal que nos permiten \n",
    "\n",
    "- Calcular matriz inversa, determinantes y trazas\n",
    "- Resolver sistemas lineales\n",
    "- Factorizar matrices\n",
    "- Calcular valores y vectores propios\n",
    "\n",
    "entre otros. Este módulo será estudiando en detalle en lecciones más avanzadas"
   ]
  },
  {
   "cell_type": "markdown",
   "metadata": {},
   "source": [
    "### Operaciones de reducción\n",
    "\n",
    "Llamamos **reducción** a una operación que **agrega** los valores de un arreglo entregando un único valor como respuesta\n",
    "\n",
    "La reducción más básica es la **suma agregada**\n",
    "\n",
    "$$\n",
    "[0, 1, 2, 4, 3] \\rightarrow 0 + 1 + 2 + 4 + 3 = 10 \n",
    "$$\n",
    "\n",
    "> Las operaciones de reducción se usan ampliamente para resumir datos y hacer estadística\n",
    "\n",
    "\n",
    "Algunas de las reducciones disponibles en NumPy son:\n",
    "- `sum`, `prod`\n",
    "- `amax`, `amin`, `argmax`, `argmin`\n",
    "- `mean`, `std`, `var`, `percentile`, `median`\n",
    "- `cumsum`, `cumprod`"
   ]
  },
  {
   "cell_type": "markdown",
   "metadata": {},
   "source": [
    "Diferencia entre sumar en el eje de filas, columnas y suma total:"
   ]
  },
  {
   "cell_type": "code",
   "execution_count": null,
   "metadata": {
    "ExecuteTime": {
     "end_time": "2020-05-16T00:38:34.817181Z",
     "start_time": "2020-05-16T00:38:34.805646Z"
    }
   },
   "outputs": [],
   "source": [
    "A = np.tile(np.arange(3), (3, 1))\n",
    "display(A)\n",
    "display(np.sum(A, axis=0))\n",
    "display(np.sum(A, axis=1))\n",
    "display(np.sum(A))"
   ]
  },
  {
   "cell_type": "markdown",
   "metadata": {},
   "source": [
    "Encontrar el valor y posición del máximo en un arreglo es también un tipo de reducción"
   ]
  },
  {
   "cell_type": "code",
   "execution_count": null,
   "metadata": {
    "ExecuteTime": {
     "end_time": "2020-05-16T00:39:45.794940Z",
     "start_time": "2020-05-16T00:39:45.778270Z"
    }
   },
   "outputs": [],
   "source": [
    "A = np.random.randn(3, 3)\n",
    "display(A)\n",
    "display(np.amax(A, axis=0))\n",
    "display(np.argmax(A, axis=0))"
   ]
  },
  {
   "cell_type": "markdown",
   "metadata": {},
   "source": [
    "Las operaciones de reducción de NumPy son altamente eficientes\n",
    "\n",
    "Hagamos una pequeña prueba de desempeño sumando  un vector\n",
    "\n",
    "Usaremos la magia de IPython `@timeit` que nos permite medir tiempo de cómputo"
   ]
  },
  {
   "cell_type": "markdown",
   "metadata": {},
   "source": [
    "Muchas de estas funciones están implementadas como métodos de la clase arreglo, por ejemplo"
   ]
  },
  {
   "cell_type": "code",
   "execution_count": 24,
   "metadata": {
    "ExecuteTime": {
     "end_time": "2020-05-15T00:40:36.139436Z",
     "start_time": "2020-05-15T00:40:36.127316Z"
    }
   },
   "outputs": [
    {
     "data": {
      "text/plain": [
       "4999950000"
      ]
     },
     "metadata": {},
     "output_type": "display_data"
    },
    {
     "data": {
      "text/plain": [
       "99999"
      ]
     },
     "metadata": {},
     "output_type": "display_data"
    },
    {
     "data": {
      "text/plain": [
       "0"
      ]
     },
     "metadata": {},
     "output_type": "display_data"
    }
   ],
   "source": [
    "display(A.sum())\n",
    "display(A.max(axis=0))\n",
    "display(A.min())"
   ]
  },
  {
   "cell_type": "markdown",
   "metadata": {},
   "source": [
    "También cuentan con versiones seguras contra NaNs"
   ]
  },
  {
   "cell_type": "code",
   "execution_count": 25,
   "metadata": {
    "ExecuteTime": {
     "end_time": "2020-05-16T00:44:00.254762Z",
     "start_time": "2020-05-16T00:44:00.247889Z"
    }
   },
   "outputs": [
    {
     "data": {
      "text/plain": [
       "nan"
      ]
     },
     "metadata": {},
     "output_type": "display_data"
    },
    {
     "data": {
      "text/plain": [
       "13.0"
      ]
     },
     "metadata": {},
     "output_type": "display_data"
    }
   ],
   "source": [
    "A = np.array([1., 10., 2., np.nan])\n",
    "display(np.sum(A))\n",
    "display(np.nansum(A))"
   ]
  },
  {
   "cell_type": "markdown",
   "metadata": {},
   "source": [
    "**Nota:** Si queremos encontrar los NaN en un arreglo podemos usar `isnan` "
   ]
  },
  {
   "cell_type": "code",
   "execution_count": 26,
   "metadata": {
    "ExecuteTime": {
     "end_time": "2020-05-16T00:45:03.177050Z",
     "start_time": "2020-05-16T00:45:03.168364Z"
    }
   },
   "outputs": [
    {
     "data": {
      "text/plain": [
       "array([False, False, False,  True])"
      ]
     },
     "execution_count": 26,
     "metadata": {},
     "output_type": "execute_result"
    }
   ],
   "source": [
    "np.isnan(A)"
   ]
  },
  {
   "cell_type": "markdown",
   "metadata": {},
   "source": [
    "### Operaciones vectorizadas\n",
    "\n",
    "Son funciones que operan de forma *element-wise* o elemento a elemento\n",
    "\n",
    "Ya vimos las operaciones aritméticas elemento a elemento pero existen muchas más\n",
    "\n",
    "Por ejemplo para calcular el valor absoluto de los elementos de un arreglo"
   ]
  },
  {
   "cell_type": "code",
   "execution_count": 27,
   "metadata": {
    "ExecuteTime": {
     "end_time": "2020-05-16T00:45:45.762104Z",
     "start_time": "2020-05-16T00:45:45.748228Z"
    }
   },
   "outputs": [
    {
     "data": {
      "text/plain": [
       "array([[ 0.28961562, -0.56805486, -1.31019913],\n",
       "       [ 1.16631071,  0.0043343 , -0.12937753],\n",
       "       [-0.89656396,  1.40139291,  0.74452004]])"
      ]
     },
     "metadata": {},
     "output_type": "display_data"
    },
    {
     "data": {
      "text/plain": [
       "array([[0.28961562, 0.56805486, 1.31019913],\n",
       "       [1.16631071, 0.0043343 , 0.12937753],\n",
       "       [0.89656396, 1.40139291, 0.74452004]])"
      ]
     },
     "execution_count": 27,
     "metadata": {},
     "output_type": "execute_result"
    }
   ],
   "source": [
    "A = np.random.randn(3, 3)\n",
    "display(A)\n",
    "np.absolute(A) # Equivalente a np.abs(A)"
   ]
  },
  {
   "cell_type": "markdown",
   "metadata": {},
   "source": [
    "Exponenciar un arreglo"
   ]
  },
  {
   "cell_type": "code",
   "execution_count": 28,
   "metadata": {
    "ExecuteTime": {
     "end_time": "2020-05-16T00:46:06.639128Z",
     "start_time": "2020-05-16T00:46:06.628539Z"
    }
   },
   "outputs": [
    {
     "data": {
      "text/plain": [
       "array([ 0,  1,  4,  9, 16, 25, 36, 49, 64, 81])"
      ]
     },
     "metadata": {},
     "output_type": "display_data"
    },
    {
     "data": {
      "text/plain": [
       "array([0.        , 1.        , 1.41421356, 1.73205081, 2.        ,\n",
       "       2.23606798, 2.44948974, 2.64575131, 2.82842712, 3.        ])"
      ]
     },
     "metadata": {},
     "output_type": "display_data"
    }
   ],
   "source": [
    "x = np.arange(10)\n",
    "display(np.power(x, 2)) # Equivalente a x**2\n",
    "display(np.sqrt(x))"
   ]
  },
  {
   "cell_type": "markdown",
   "metadata": {},
   "source": [
    "Calcular funciones exponencial, logaritmo y trigonométricas  a partir de una arreglo"
   ]
  },
  {
   "cell_type": "code",
   "execution_count": 29,
   "metadata": {
    "ExecuteTime": {
     "end_time": "2020-05-16T00:46:22.277359Z",
     "start_time": "2020-05-16T00:46:22.253545Z"
    }
   },
   "outputs": [
    {
     "data": {
      "text/plain": [
       "array([-2.30258509,  0.        ,  2.30258509])"
      ]
     },
     "metadata": {},
     "output_type": "display_data"
    },
    {
     "data": {
      "text/plain": [
       "array([1.10517092e+00, 2.71828183e+00, 2.20264658e+04])"
      ]
     },
     "metadata": {},
     "output_type": "display_data"
    },
    {
     "data": {
      "text/plain": [
       "array([ 0.09983342,  0.84147098, -0.54402111])"
      ]
     },
     "metadata": {},
     "output_type": "display_data"
    },
    {
     "data": {
      "text/plain": [
       "array([ 0.99500417,  0.54030231, -0.83907153])"
      ]
     },
     "metadata": {},
     "output_type": "display_data"
    },
    {
     "data": {
      "text/plain": [
       "array([0.10033467, 1.55740772, 0.64836083])"
      ]
     },
     "metadata": {},
     "output_type": "display_data"
    }
   ],
   "source": [
    "x = np.array([0.1, 1., 10.0])\n",
    "display(np.log(x)) # También está log2, log10\n",
    "display(np.exp(x)) \n",
    "display(np.sin(x)) # También está arcsin, sinh\n",
    "display(np.cos(x)) # También está arccos, cosh\n",
    "display(np.tan(x)) #También está arctan, tanh"
   ]
  },
  {
   "cell_type": "markdown",
   "metadata": {},
   "source": [
    "Otras funciones útiles: \n",
    "\n",
    "- Para obtener el signo de cada elemento de un arreglo: `sign`\n",
    "- Para obtener un arreglo de 1 dividido los elementos del mismo: `reciprocal`\n",
    "- Para redondear hacia abajo o hacia arriba: `round`, `floor` y `ciel`\n",
    "- Para obtener la parte real o imaginaria de un número complejo: `real`, `imag`\n",
    "- O el conjugado de un número complejo: `conj`, "
   ]
  },
  {
   "cell_type": "markdown",
   "metadata": {},
   "source": [
    "### Operaciones booleanas \n",
    "\n",
    "NumPy soporta operaciones booleanas sobre ndarray"
   ]
  },
  {
   "cell_type": "code",
   "execution_count": 30,
   "metadata": {
    "ExecuteTime": {
     "end_time": "2020-05-16T00:46:53.987064Z",
     "start_time": "2020-05-16T00:46:53.970217Z"
    }
   },
   "outputs": [
    {
     "data": {
      "text/plain": [
       "array([[0, 1, 2],\n",
       "       [3, 4, 5]])"
      ]
     },
     "metadata": {},
     "output_type": "display_data"
    },
    {
     "data": {
      "text/plain": [
       "array([[False, False, False],\n",
       "       [False,  True, False]])"
      ]
     },
     "metadata": {},
     "output_type": "display_data"
    },
    {
     "data": {
      "text/plain": [
       "array([[False, False, False],\n",
       "       [False,  True, False]])"
      ]
     },
     "metadata": {},
     "output_type": "display_data"
    }
   ],
   "source": [
    "A = np.arange(6).reshape(2, 3)\n",
    "display(A)\n",
    "display(A == 4)\n",
    "display(np.equal(A, 4))"
   ]
  },
  {
   "cell_type": "markdown",
   "metadata": {},
   "source": [
    "Como vimos antes podemos crear una máscara booleana para indexar un arreglo"
   ]
  },
  {
   "cell_type": "code",
   "execution_count": 31,
   "metadata": {
    "ExecuteTime": {
     "end_time": "2020-05-16T00:47:56.874179Z",
     "start_time": "2020-05-16T00:47:56.864752Z"
    }
   },
   "outputs": [
    {
     "data": {
      "text/plain": [
       "array([[False, False, False],\n",
       "       [ True, False,  True]])"
      ]
     },
     "metadata": {},
     "output_type": "display_data"
    },
    {
     "data": {
      "text/plain": [
       "array([3, 5])"
      ]
     },
     "metadata": {},
     "output_type": "display_data"
    }
   ],
   "source": [
    "mask = ~(A % 2 == 0) & (A > 2)\n",
    "display(mask)\n",
    "display(A[mask])"
   ]
  },
  {
   "cell_type": "markdown",
   "metadata": {},
   "source": [
    "La función `where` sirve para recuperar el índice de los elementos que cumplen una cierta condición"
   ]
  },
  {
   "cell_type": "code",
   "execution_count": 32,
   "metadata": {
    "ExecuteTime": {
     "end_time": "2020-05-16T00:48:26.975345Z",
     "start_time": "2020-05-16T00:48:26.961679Z"
    }
   },
   "outputs": [
    {
     "data": {
      "text/plain": [
       "'Fila 1 Columna 0 Valor 3'"
      ]
     },
     "metadata": {},
     "output_type": "display_data"
    },
    {
     "data": {
      "text/plain": [
       "'Fila 1 Columna 2 Valor 5'"
      ]
     },
     "metadata": {},
     "output_type": "display_data"
    }
   ],
   "source": [
    "(ixs, iys) = np.where(~(A % 2 == 0) & (A > 2))\n",
    "\n",
    "for i, j in zip(ixs, iys):\n",
    "    display(\"Fila {0} Columna {1} Valor {2}\".format(i, j, A[i, j]))"
   ]
  },
  {
   "cell_type": "markdown",
   "metadata": {},
   "source": [
    "Funciones `any` y `all`"
   ]
  },
  {
   "cell_type": "code",
   "execution_count": 33,
   "metadata": {
    "ExecuteTime": {
     "end_time": "2020-05-16T00:49:26.977938Z",
     "start_time": "2020-05-16T00:49:26.967224Z"
    }
   },
   "outputs": [
    {
     "data": {
      "text/plain": [
       "array([[ 0.14193603, -0.72705269, -1.24669521],\n",
       "       [-1.07672289, -0.50882656, -0.65657527],\n",
       "       [-0.40478851,  0.15480019, -1.04635225]])"
      ]
     },
     "metadata": {},
     "output_type": "display_data"
    },
    {
     "data": {
      "text/plain": [
       "array([[False, False, False],\n",
       "       [False, False, False],\n",
       "       [False, False, False]])"
      ]
     },
     "metadata": {},
     "output_type": "display_data"
    },
    {
     "data": {
      "text/plain": [
       "False"
      ]
     },
     "metadata": {},
     "output_type": "display_data"
    },
    {
     "data": {
      "text/plain": [
       "False"
      ]
     },
     "metadata": {},
     "output_type": "display_data"
    }
   ],
   "source": [
    "x = np.random.randn(3, 3)\n",
    "display(x)\n",
    "b = (x > 0) & (x**2 > 0.5)\n",
    "display(b)\n",
    "\n",
    "display(np.any(b))\n",
    "display(np.all(b))"
   ]
  }
 ],
 "metadata": {
  "kernelspec": {
   "display_name": "Python 3",
   "language": "python",
   "name": "python3"
  },
  "language_info": {
   "codemirror_mode": {
    "name": "ipython",
    "version": 3
   },
   "file_extension": ".py",
   "mimetype": "text/x-python",
   "name": "python",
   "nbconvert_exporter": "python",
   "pygments_lexer": "ipython3",
   "version": "3.7.6"
  },
  "toc": {
   "base_numbering": 1,
   "nav_menu": {},
   "number_sections": true,
   "sideBar": true,
   "skip_h1_title": false,
   "title_cell": "Table of Contents",
   "title_sidebar": "Contents",
   "toc_cell": false,
   "toc_position": {},
   "toc_section_display": true,
   "toc_window_display": false
  }
 },
 "nbformat": 4,
 "nbformat_minor": 2
}
